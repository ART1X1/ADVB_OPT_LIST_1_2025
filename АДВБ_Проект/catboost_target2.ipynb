{
 "cells": [
  {
   "cell_type": "code",
   "execution_count": 1,
   "id": "47ac796b-33ae-4bd8-9807-fe4f3da61eb0",
   "metadata": {},
   "outputs": [],
   "source": [
    "from imblearn.over_sampling import SMOTE\n",
    "from sklearn.model_selection import GridSearchCV\n",
    "from xgboost import XGBClassifier\n",
    "from sklearn.metrics import classification_report, roc_auc_score\n",
    "from sklearn.pipeline import Pipeline\n",
    "from sklearn.compose import ColumnTransformer\n",
    "from sklearn.preprocessing import StandardScaler, OneHotEncoder\n",
    "from sklearn.impute import SimpleImputer\n",
    "import pandas as pd\n",
    "import pandas as pd\n",
    "from sklearn.model_selection import train_test_split\n",
    "from sklearn.linear_model import LogisticRegression, Ridge\n",
    "from sklearn.preprocessing import StandardScaler, PolynomialFeatures, PolynomialFeatures, StandardScaler, OneHotEncoder\n",
    "from sklearn.metrics import roc_auc_score, f1_score, accuracy_score, classification_report\n",
    "from sklearn.metrics import accuracy_score, precision_score, recall_score\n",
    "from sklearn.decomposition import PCA\n",
    "from sklearn.ensemble import GradientBoostingClassifier\n",
    "import matplotlib.pyplot as plt\n",
    "import seaborn as sns\n",
    "import catboost\n",
    "from catboost import CatBoostClassifier\n",
    "import optuna \n",
    "from sklearn.metrics import f1_score, roc_auc_score, precision_score, recall_score, classification_report\n",
    "from sklearn.inspection import permutation_importance\n",
    "import matplotlib.pyplot as plt\n",
    "import seaborn as sns"
   ]
  },
  {
   "cell_type": "code",
   "execution_count": 56,
   "id": "969ac21a-d482-49bb-8770-75329f2eedc4",
   "metadata": {},
   "outputs": [],
   "source": [
    "train = pd.read_parquet('train.parquet')\n",
    "val = pd.read_parquet('val.parquet')\n",
    "test = pd.read_parquet('test.parquet')"
   ]
  },
  {
   "cell_type": "code",
   "execution_count": 8,
   "id": "6a16d0e6-76d7-4578-b8df-cbc2c93ad5f9",
   "metadata": {},
   "outputs": [],
   "source": [
    "target1 = 'Target1'\n",
    "target2 = 'Target2'"
   ]
  },
  {
   "cell_type": "markdown",
   "id": "a307851b-c869-4075-8f73-075ee2190361",
   "metadata": {},
   "source": [
    "# TARGET - 2"
   ]
  },
  {
   "cell_type": "code",
   "execution_count": 9,
   "id": "106b75f0-9ae0-4f44-b6c0-1704e66dd2a6",
   "metadata": {},
   "outputs": [
    {
     "data": {
      "text/html": [
       "<div>\n",
       "<style scoped>\n",
       "    .dataframe tbody tr th:only-of-type {\n",
       "        vertical-align: middle;\n",
       "    }\n",
       "\n",
       "    .dataframe tbody tr th {\n",
       "        vertical-align: top;\n",
       "    }\n",
       "\n",
       "    .dataframe thead th {\n",
       "        text-align: right;\n",
       "    }\n",
       "</style>\n",
       "<table border=\"1\" class=\"dataframe\">\n",
       "  <thead>\n",
       "    <tr style=\"text-align: right;\">\n",
       "      <th></th>\n",
       "      <th>Age</th>\n",
       "      <th>Ind_Household</th>\n",
       "      <th>Age_group</th>\n",
       "      <th>District</th>\n",
       "      <th>Region</th>\n",
       "      <th>Lifetime</th>\n",
       "      <th>Income</th>\n",
       "      <th>Segment</th>\n",
       "      <th>Ind_deposit</th>\n",
       "      <th>Ind_email</th>\n",
       "      <th>...</th>\n",
       "      <th>Ind_salary</th>\n",
       "      <th>trans_6_month</th>\n",
       "      <th>trans_9_month</th>\n",
       "      <th>trans_12_month</th>\n",
       "      <th>amont_trans</th>\n",
       "      <th>amont_day_from</th>\n",
       "      <th>trans_3_month</th>\n",
       "      <th>Gender</th>\n",
       "      <th>Target1</th>\n",
       "      <th>Target2</th>\n",
       "    </tr>\n",
       "  </thead>\n",
       "  <tbody>\n",
       "    <tr>\n",
       "      <th>963695</th>\n",
       "      <td>73.0</td>\n",
       "      <td>No</td>\n",
       "      <td>senior</td>\n",
       "      <td>09</td>\n",
       "      <td>North</td>\n",
       "      <td>4.0</td>\n",
       "      <td>53</td>\n",
       "      <td>Gold</td>\n",
       "      <td>Yes</td>\n",
       "      <td>Yes</td>\n",
       "      <td>...</td>\n",
       "      <td>No</td>\n",
       "      <td>2061.87</td>\n",
       "      <td>3024.89</td>\n",
       "      <td>4070.35</td>\n",
       "      <td>8</td>\n",
       "      <td>24</td>\n",
       "      <td>961.780000</td>\n",
       "      <td>M</td>\n",
       "      <td>1</td>\n",
       "      <td>1</td>\n",
       "    </tr>\n",
       "    <tr>\n",
       "      <th>759675</th>\n",
       "      <td>37.0</td>\n",
       "      <td>No</td>\n",
       "      <td>middle</td>\n",
       "      <td>52</td>\n",
       "      <td>South East</td>\n",
       "      <td>4.0</td>\n",
       "      <td>58</td>\n",
       "      <td>Silver</td>\n",
       "      <td>Yes</td>\n",
       "      <td>Yes</td>\n",
       "      <td>...</td>\n",
       "      <td>No</td>\n",
       "      <td>2017.37</td>\n",
       "      <td>3036.57</td>\n",
       "      <td>4202.14</td>\n",
       "      <td>4</td>\n",
       "      <td>28</td>\n",
       "      <td>935.174529</td>\n",
       "      <td>F</td>\n",
       "      <td>1</td>\n",
       "      <td>0</td>\n",
       "    </tr>\n",
       "    <tr>\n",
       "      <th>245217</th>\n",
       "      <td>NaN</td>\n",
       "      <td>No</td>\n",
       "      <td>unknown</td>\n",
       "      <td>03</td>\n",
       "      <td>South East</td>\n",
       "      <td>16.0</td>\n",
       "      <td>49</td>\n",
       "      <td>Silver</td>\n",
       "      <td>Yes</td>\n",
       "      <td>Yes</td>\n",
       "      <td>...</td>\n",
       "      <td>No</td>\n",
       "      <td>2044.67</td>\n",
       "      <td>3033.95</td>\n",
       "      <td>4152.95</td>\n",
       "      <td>9</td>\n",
       "      <td>15</td>\n",
       "      <td>991.400000</td>\n",
       "      <td>U</td>\n",
       "      <td>0</td>\n",
       "      <td>0</td>\n",
       "    </tr>\n",
       "    <tr>\n",
       "      <th>71316</th>\n",
       "      <td>51.0</td>\n",
       "      <td>No</td>\n",
       "      <td>middle</td>\n",
       "      <td>53</td>\n",
       "      <td>Midlands</td>\n",
       "      <td>5.0</td>\n",
       "      <td>55</td>\n",
       "      <td>Tin</td>\n",
       "      <td>Yes</td>\n",
       "      <td>Yes</td>\n",
       "      <td>...</td>\n",
       "      <td>No</td>\n",
       "      <td>2059.58</td>\n",
       "      <td>3053.52</td>\n",
       "      <td>4111.90</td>\n",
       "      <td>12</td>\n",
       "      <td>15</td>\n",
       "      <td>969.010000</td>\n",
       "      <td>F</td>\n",
       "      <td>0</td>\n",
       "      <td>0</td>\n",
       "    </tr>\n",
       "    <tr>\n",
       "      <th>256377</th>\n",
       "      <td>44.0</td>\n",
       "      <td>No</td>\n",
       "      <td>middle</td>\n",
       "      <td>03</td>\n",
       "      <td>South East</td>\n",
       "      <td>7.0</td>\n",
       "      <td>40</td>\n",
       "      <td>Gold</td>\n",
       "      <td>Yes</td>\n",
       "      <td>Yes</td>\n",
       "      <td>...</td>\n",
       "      <td>No</td>\n",
       "      <td>2051.88</td>\n",
       "      <td>3074.08</td>\n",
       "      <td>4110.98</td>\n",
       "      <td>4</td>\n",
       "      <td>16</td>\n",
       "      <td>927.500000</td>\n",
       "      <td>F</td>\n",
       "      <td>0</td>\n",
       "      <td>0</td>\n",
       "    </tr>\n",
       "    <tr>\n",
       "      <th>...</th>\n",
       "      <td>...</td>\n",
       "      <td>...</td>\n",
       "      <td>...</td>\n",
       "      <td>...</td>\n",
       "      <td>...</td>\n",
       "      <td>...</td>\n",
       "      <td>...</td>\n",
       "      <td>...</td>\n",
       "      <td>...</td>\n",
       "      <td>...</td>\n",
       "      <td>...</td>\n",
       "      <td>...</td>\n",
       "      <td>...</td>\n",
       "      <td>...</td>\n",
       "      <td>...</td>\n",
       "      <td>...</td>\n",
       "      <td>...</td>\n",
       "      <td>...</td>\n",
       "      <td>...</td>\n",
       "      <td>...</td>\n",
       "      <td>...</td>\n",
       "    </tr>\n",
       "    <tr>\n",
       "      <th>906602</th>\n",
       "      <td>52.0</td>\n",
       "      <td>Yes</td>\n",
       "      <td>middle</td>\n",
       "      <td>49</td>\n",
       "      <td>Midlands</td>\n",
       "      <td>8.0</td>\n",
       "      <td>55</td>\n",
       "      <td>Gold</td>\n",
       "      <td>No</td>\n",
       "      <td>Yes</td>\n",
       "      <td>...</td>\n",
       "      <td>No</td>\n",
       "      <td>2061.03</td>\n",
       "      <td>3102.71</td>\n",
       "      <td>4146.20</td>\n",
       "      <td>8</td>\n",
       "      <td>14</td>\n",
       "      <td>960.200000</td>\n",
       "      <td>M</td>\n",
       "      <td>0</td>\n",
       "      <td>0</td>\n",
       "    </tr>\n",
       "    <tr>\n",
       "      <th>829155</th>\n",
       "      <td>62.0</td>\n",
       "      <td>No</td>\n",
       "      <td>senior</td>\n",
       "      <td>32</td>\n",
       "      <td>Unknown</td>\n",
       "      <td>2.0</td>\n",
       "      <td>46</td>\n",
       "      <td>Gold</td>\n",
       "      <td>Yes</td>\n",
       "      <td>Yes</td>\n",
       "      <td>...</td>\n",
       "      <td>No</td>\n",
       "      <td>2119.59</td>\n",
       "      <td>3161.31</td>\n",
       "      <td>4249.55</td>\n",
       "      <td>3</td>\n",
       "      <td>13</td>\n",
       "      <td>984.400000</td>\n",
       "      <td>F</td>\n",
       "      <td>0</td>\n",
       "      <td>0</td>\n",
       "    </tr>\n",
       "    <tr>\n",
       "      <th>459940</th>\n",
       "      <td>69.0</td>\n",
       "      <td>No</td>\n",
       "      <td>senior</td>\n",
       "      <td>42</td>\n",
       "      <td>South East</td>\n",
       "      <td>8.0</td>\n",
       "      <td>44</td>\n",
       "      <td>Platinum</td>\n",
       "      <td>Yes</td>\n",
       "      <td>Yes</td>\n",
       "      <td>...</td>\n",
       "      <td>No</td>\n",
       "      <td>2085.08</td>\n",
       "      <td>3056.76</td>\n",
       "      <td>4136.43</td>\n",
       "      <td>5</td>\n",
       "      <td>14</td>\n",
       "      <td>974.060000</td>\n",
       "      <td>M</td>\n",
       "      <td>0</td>\n",
       "      <td>0</td>\n",
       "    </tr>\n",
       "    <tr>\n",
       "      <th>296417</th>\n",
       "      <td>76.0</td>\n",
       "      <td>No</td>\n",
       "      <td>senior</td>\n",
       "      <td>50</td>\n",
       "      <td>Unknown</td>\n",
       "      <td>8.0</td>\n",
       "      <td>50</td>\n",
       "      <td>Gold</td>\n",
       "      <td>Yes</td>\n",
       "      <td>Yes</td>\n",
       "      <td>...</td>\n",
       "      <td>No</td>\n",
       "      <td>2108.51</td>\n",
       "      <td>3099.34</td>\n",
       "      <td>4145.69</td>\n",
       "      <td>7</td>\n",
       "      <td>14</td>\n",
       "      <td>929.980000</td>\n",
       "      <td>M</td>\n",
       "      <td>0</td>\n",
       "      <td>0</td>\n",
       "    </tr>\n",
       "    <tr>\n",
       "      <th>636609</th>\n",
       "      <td>69.0</td>\n",
       "      <td>No</td>\n",
       "      <td>senior</td>\n",
       "      <td>02</td>\n",
       "      <td>South West</td>\n",
       "      <td>9.0</td>\n",
       "      <td>37</td>\n",
       "      <td>Tin</td>\n",
       "      <td>Yes</td>\n",
       "      <td>Yes</td>\n",
       "      <td>...</td>\n",
       "      <td>No</td>\n",
       "      <td>2142.26</td>\n",
       "      <td>3157.99</td>\n",
       "      <td>4302.52</td>\n",
       "      <td>6</td>\n",
       "      <td>15</td>\n",
       "      <td>951.860000</td>\n",
       "      <td>U</td>\n",
       "      <td>0</td>\n",
       "      <td>0</td>\n",
       "    </tr>\n",
       "  </tbody>\n",
       "</table>\n",
       "<p>591285 rows × 21 columns</p>\n",
       "</div>"
      ],
      "text/plain": [
       "         Age Ind_Household Age_group District      Region  Lifetime  Income  \\\n",
       "963695  73.0            No    senior       09       North       4.0      53   \n",
       "759675  37.0            No    middle       52  South East       4.0      58   \n",
       "245217   NaN            No   unknown       03  South East      16.0      49   \n",
       "71316   51.0            No    middle       53    Midlands       5.0      55   \n",
       "256377  44.0            No    middle       03  South East       7.0      40   \n",
       "...      ...           ...       ...      ...         ...       ...     ...   \n",
       "906602  52.0           Yes    middle       49    Midlands       8.0      55   \n",
       "829155  62.0            No    senior       32     Unknown       2.0      46   \n",
       "459940  69.0            No    senior       42  South East       8.0      44   \n",
       "296417  76.0            No    senior       50     Unknown       8.0      50   \n",
       "636609  69.0            No    senior       02  South West       9.0      37   \n",
       "\n",
       "         Segment Ind_deposit Ind_email  ... Ind_salary trans_6_month  \\\n",
       "963695      Gold         Yes       Yes  ...         No       2061.87   \n",
       "759675    Silver         Yes       Yes  ...         No       2017.37   \n",
       "245217    Silver         Yes       Yes  ...         No       2044.67   \n",
       "71316        Tin         Yes       Yes  ...         No       2059.58   \n",
       "256377      Gold         Yes       Yes  ...         No       2051.88   \n",
       "...          ...         ...       ...  ...        ...           ...   \n",
       "906602      Gold          No       Yes  ...         No       2061.03   \n",
       "829155      Gold         Yes       Yes  ...         No       2119.59   \n",
       "459940  Platinum         Yes       Yes  ...         No       2085.08   \n",
       "296417      Gold         Yes       Yes  ...         No       2108.51   \n",
       "636609       Tin         Yes       Yes  ...         No       2142.26   \n",
       "\n",
       "        trans_9_month  trans_12_month  amont_trans  amont_day_from  \\\n",
       "963695        3024.89         4070.35            8              24   \n",
       "759675        3036.57         4202.14            4              28   \n",
       "245217        3033.95         4152.95            9              15   \n",
       "71316         3053.52         4111.90           12              15   \n",
       "256377        3074.08         4110.98            4              16   \n",
       "...               ...             ...          ...             ...   \n",
       "906602        3102.71         4146.20            8              14   \n",
       "829155        3161.31         4249.55            3              13   \n",
       "459940        3056.76         4136.43            5              14   \n",
       "296417        3099.34         4145.69            7              14   \n",
       "636609        3157.99         4302.52            6              15   \n",
       "\n",
       "        trans_3_month  Gender Target1  Target2  \n",
       "963695     961.780000       M       1        1  \n",
       "759675     935.174529       F       1        0  \n",
       "245217     991.400000       U       0        0  \n",
       "71316      969.010000       F       0        0  \n",
       "256377     927.500000       F       0        0  \n",
       "...               ...     ...     ...      ...  \n",
       "906602     960.200000       M       0        0  \n",
       "829155     984.400000       F       0        0  \n",
       "459940     974.060000       M       0        0  \n",
       "296417     929.980000       M       0        0  \n",
       "636609     951.860000       U       0        0  \n",
       "\n",
       "[591285 rows x 21 columns]"
      ]
     },
     "execution_count": 9,
     "metadata": {},
     "output_type": "execute_result"
    }
   ],
   "source": [
    "train"
   ]
  },
  {
   "cell_type": "code",
   "execution_count": 10,
   "id": "f0dfe7de-86d1-41b6-a63a-450e12fc5bac",
   "metadata": {},
   "outputs": [],
   "source": [
    "cat_features = train.select_dtypes(include=['object', 'category']).columns.tolist()"
   ]
  },
  {
   "cell_type": "code",
   "execution_count": 11,
   "id": "866cedeb-03f1-4284-acf2-d53bb60266cc",
   "metadata": {},
   "outputs": [],
   "source": [
    "cat_features = ['Ind_Household',\n",
    " 'Age_group',\n",
    " 'District',\n",
    " 'Region',\n",
    " 'Segment',\n",
    " 'Ind_deposit',\n",
    " 'Ind_email',\n",
    " 'Ind_phone',\n",
    " 'Ind_salary',\n",
    " 'Gender']"
   ]
  },
  {
   "cell_type": "code",
   "execution_count": 12,
   "id": "2d56f01c-b8f6-4893-8250-781702a5a0ac",
   "metadata": {},
   "outputs": [
    {
     "name": "stdout",
     "output_type": "stream",
     "text": [
      "0:\tlearn: 0.5737366\ttest: 0.5738973\tbest: 0.5738973 (0)\ttotal: 165ms\tremaining: 2m 45s\n",
      "100:\tlearn: 0.1204721\ttest: 0.1209859\tbest: 0.1209859 (100)\ttotal: 9.15s\tremaining: 1m 21s\n",
      "200:\tlearn: 0.1034799\ttest: 0.1039570\tbest: 0.1039570 (200)\ttotal: 18s\tremaining: 1m 11s\n",
      "300:\tlearn: 0.0960276\ttest: 0.0964369\tbest: 0.0964369 (300)\ttotal: 26.4s\tremaining: 1m 1s\n",
      "400:\tlearn: 0.0931413\ttest: 0.0935479\tbest: 0.0935479 (400)\ttotal: 35s\tremaining: 52.2s\n",
      "500:\tlearn: 0.0915635\ttest: 0.0920040\tbest: 0.0920040 (500)\ttotal: 43.7s\tremaining: 43.5s\n",
      "600:\tlearn: 0.0903058\ttest: 0.0907918\tbest: 0.0907918 (600)\ttotal: 52.3s\tremaining: 34.8s\n",
      "700:\tlearn: 0.0891723\ttest: 0.0897263\tbest: 0.0897263 (700)\ttotal: 1m\tremaining: 26s\n",
      "800:\tlearn: 0.0883349\ttest: 0.0889489\tbest: 0.0889489 (800)\ttotal: 1m 9s\tremaining: 17.3s\n",
      "900:\tlearn: 0.0877438\ttest: 0.0883951\tbest: 0.0883951 (900)\ttotal: 1m 18s\tremaining: 8.58s\n",
      "999:\tlearn: 0.0872312\ttest: 0.0879265\tbest: 0.0879265 (999)\ttotal: 1m 26s\tremaining: 0us\n",
      "\n",
      "bestTest = 0.08792646361\n",
      "bestIteration = 999\n",
      "\n"
     ]
    },
    {
     "data": {
      "text/plain": [
       "<catboost.core.CatBoostClassifier at 0x2af8f7fa0>"
      ]
     },
     "execution_count": 12,
     "metadata": {},
     "output_type": "execute_result"
    }
   ],
   "source": [
    "model = CatBoostClassifier(iterations=1000, learning_rate=0.1, depth=3, random_seed=42)\n",
    "model.fit(train.drop(columns=[target1, target2]), train[target2], cat_features=cat_features, eval_set = (val.drop(columns=[target1, target2]), val[target2]), verbose=100)"
   ]
  },
  {
   "cell_type": "code",
   "execution_count": 14,
   "id": "4700bd6a-e6f5-475a-838f-73369b1bd60c",
   "metadata": {},
   "outputs": [
    {
     "name": "stdout",
     "output_type": "stream",
     "text": [
      "TRAIN : 0.9817573029922888\n",
      "VAL : 0.9814121282296636\n",
      "TEST : 0.9821591559250539\n"
     ]
    }
   ],
   "source": [
    "print(f\"TRAIN : {roc_auc_score(train[target2], model.predict_proba(train.drop(columns=[target1, target2]))[:, 1])}\")\n",
    "print(f\"VAL : {roc_auc_score(val[target2], model.predict_proba(val.drop(columns=[target1, target2]))[:, 1])}\")\n",
    "print(f\"TEST : {roc_auc_score(test[target2], model.predict_proba(test.drop(columns=[target1, target2]))[:, 1])}\")"
   ]
  },
  {
   "cell_type": "code",
   "execution_count": 15,
   "id": "119060dd-552b-4240-b318-7e8e840ea6a9",
   "metadata": {},
   "outputs": [
    {
     "name": "stdout",
     "output_type": "stream",
     "text": [
      "              precision    recall  f1-score   support\n",
      "\n",
      "           0       0.97      0.99      0.98    180178\n",
      "           1       0.88      0.72      0.79     16918\n",
      "\n",
      "    accuracy                           0.97    197096\n",
      "   macro avg       0.93      0.85      0.89    197096\n",
      "weighted avg       0.97      0.97      0.97    197096\n",
      "\n"
     ]
    }
   ],
   "source": [
    "print(classification_report(test[target2], model.predict(test.drop(columns=[target1, target2]))))"
   ]
  },
  {
   "cell_type": "code",
   "execution_count": 16,
   "id": "91858cab-394e-463b-8490-2bf4400a2536",
   "metadata": {},
   "outputs": [],
   "source": [
    "res = permutation_importance(model, train.drop(columns=[target1, target2]), train[target2], n_repeats=10, random_state=42)"
   ]
  },
  {
   "cell_type": "code",
   "execution_count": 17,
   "id": "d8d02cc8-b1bc-450b-bc6f-8a92174fca7e",
   "metadata": {},
   "outputs": [],
   "source": [
    "new_features = [list(train.drop(columns=[target1, target2]).columns)[i] for i in res['importances_mean'].argsort()[::1] if res['importances_mean'][i] - 2*res['importances_std'][i] > 0]\n",
    "\n"
   ]
  },
  {
   "cell_type": "code",
   "execution_count": 18,
   "id": "d531ace4-4483-4a90-92d3-4d933620de12",
   "metadata": {},
   "outputs": [
    {
     "data": {
      "text/plain": [
       "11"
      ]
     },
     "execution_count": 18,
     "metadata": {},
     "output_type": "execute_result"
    }
   ],
   "source": [
    "len(new_features)"
   ]
  },
  {
   "cell_type": "code",
   "execution_count": 19,
   "id": "9e7e0173-4f9e-4411-83bd-fd3bc6f1298c",
   "metadata": {},
   "outputs": [
    {
     "data": {
      "text/plain": [
       "['Age_group',\n",
       " 'Segment',\n",
       " 'Lifetime',\n",
       " 'Region',\n",
       " 'trans_6_month',\n",
       " 'District',\n",
       " 'Income',\n",
       " 'Gender',\n",
       " 'Age',\n",
       " 'trans_3_month',\n",
       " 'amont_day_from']"
      ]
     },
     "execution_count": 19,
     "metadata": {},
     "output_type": "execute_result"
    }
   ],
   "source": [
    "new_features"
   ]
  },
  {
   "cell_type": "code",
   "execution_count": 22,
   "id": "d9113b7e-3978-4f6b-9e22-5ac30d282303",
   "metadata": {},
   "outputs": [
    {
     "name": "stdout",
     "output_type": "stream",
     "text": [
      "<class 'pandas.core.frame.DataFrame'>\n",
      "Index: 591285 entries, 963695 to 636609\n",
      "Data columns (total 21 columns):\n",
      " #   Column          Non-Null Count   Dtype  \n",
      "---  ------          --------------   -----  \n",
      " 0   Age             551055 non-null  float64\n",
      " 1   Ind_Household   591285 non-null  object \n",
      " 2   Age_group       591285 non-null  object \n",
      " 3   District        591285 non-null  object \n",
      " 4   Region          591285 non-null  object \n",
      " 5   Lifetime        583726 non-null  float64\n",
      " 6   Income          591285 non-null  int64  \n",
      " 7   Segment         591285 non-null  object \n",
      " 8   Ind_deposit     591285 non-null  object \n",
      " 9   Ind_email       591285 non-null  object \n",
      " 10  Ind_phone       591285 non-null  object \n",
      " 11  Ind_salary      591285 non-null  object \n",
      " 12  trans_6_month   591285 non-null  float64\n",
      " 13  trans_9_month   591285 non-null  float64\n",
      " 14  trans_12_month  591285 non-null  float64\n",
      " 15  amont_trans     591285 non-null  int64  \n",
      " 16  amont_day_from  591285 non-null  int64  \n",
      " 17  trans_3_month   591285 non-null  float64\n",
      " 18  Gender          591285 non-null  object \n",
      " 19  Target1         591285 non-null  int64  \n",
      " 20  Target2         591285 non-null  int64  \n",
      "dtypes: float64(6), int64(5), object(10)\n",
      "memory usage: 99.2+ MB\n"
     ]
    }
   ],
   "source": [
    "train.info()"
   ]
  },
  {
   "cell_type": "code",
   "execution_count": 57,
   "id": "45acc2ba-3999-44e5-a6c7-18b7870768ab",
   "metadata": {},
   "outputs": [],
   "source": [
    "train = train.drop(columns=['Ind_Household', 'Ind_deposit', 'Ind_email', 'Ind_phone', 'Ind_salary', 'trans_9_month', 'trans_12_month', 'amont_trans'])\n",
    "val = val.drop(columns=['Ind_Household', 'Ind_deposit', 'Ind_email', 'Ind_phone', 'Ind_salary', 'trans_9_month', 'trans_12_month', 'amont_trans'])\n",
    "test = test.drop(columns=['Ind_Household', 'Ind_deposit', 'Ind_email', 'Ind_phone', 'Ind_salary', 'trans_9_month', 'trans_12_month', 'amont_trans'])\n"
   ]
  },
  {
   "cell_type": "code",
   "execution_count": 58,
   "id": "6feb71bc-e69e-4b71-866f-fea1b4815c7d",
   "metadata": {},
   "outputs": [
    {
     "data": {
      "text/plain": [
       "['Age_group', 'District', 'Region', 'Segment', 'Gender']"
      ]
     },
     "execution_count": 58,
     "metadata": {},
     "output_type": "execute_result"
    }
   ],
   "source": [
    "cat_features = train.select_dtypes(include=['object', 'category']).columns.tolist()\n",
    "cat_features"
   ]
  },
  {
   "cell_type": "code",
   "execution_count": 59,
   "id": "566f57ee-4c34-44c8-82e6-888fc8412f2c",
   "metadata": {},
   "outputs": [
    {
     "name": "stdout",
     "output_type": "stream",
     "text": [
      "0:\tlearn: 0.5680422\ttest: 0.5681400\tbest: 0.5681400 (0)\ttotal: 120ms\tremaining: 2m\n",
      "100:\tlearn: 0.1227031\ttest: 0.1231947\tbest: 0.1231947 (100)\ttotal: 8.58s\tremaining: 1m 16s\n",
      "200:\tlearn: 0.1026962\ttest: 0.1031775\tbest: 0.1031775 (200)\ttotal: 17.1s\tremaining: 1m 8s\n",
      "300:\tlearn: 0.0968699\ttest: 0.0973353\tbest: 0.0973353 (300)\ttotal: 25.7s\tremaining: 59.7s\n",
      "400:\tlearn: 0.0934844\ttest: 0.0939148\tbest: 0.0939148 (400)\ttotal: 34.1s\tremaining: 51s\n",
      "500:\tlearn: 0.0916639\ttest: 0.0920758\tbest: 0.0920758 (500)\ttotal: 42.5s\tremaining: 42.4s\n",
      "600:\tlearn: 0.0897374\ttest: 0.0901707\tbest: 0.0901707 (600)\ttotal: 51.3s\tremaining: 34s\n",
      "700:\tlearn: 0.0882613\ttest: 0.0886187\tbest: 0.0886187 (700)\ttotal: 1m\tremaining: 26s\n",
      "800:\tlearn: 0.0873994\ttest: 0.0877833\tbest: 0.0877833 (800)\ttotal: 1m 9s\tremaining: 17.3s\n",
      "900:\tlearn: 0.0866707\ttest: 0.0871056\tbest: 0.0871056 (900)\ttotal: 1m 18s\tremaining: 8.62s\n",
      "999:\tlearn: 0.0863865\ttest: 0.0868821\tbest: 0.0868821 (999)\ttotal: 1m 27s\tremaining: 0us\n",
      "\n",
      "bestTest = 0.08688212976\n",
      "bestIteration = 999\n",
      "\n"
     ]
    },
    {
     "data": {
      "text/plain": [
       "<catboost.core.CatBoostClassifier at 0x17b8a7fa0>"
      ]
     },
     "execution_count": 59,
     "metadata": {},
     "output_type": "execute_result"
    }
   ],
   "source": [
    "model = CatBoostClassifier(iterations=1000, learning_rate=0.1, depth=3, random_seed=42)\n",
    "model.fit(train.drop(columns=[target1, target2]), train[target2], cat_features=cat_features, eval_set = (val.drop(columns=[target1, target2]), val[target2]), verbose=100)"
   ]
  },
  {
   "cell_type": "code",
   "execution_count": 60,
   "id": "1d572895-24c3-45ff-83f5-8a3c9b50101f",
   "metadata": {},
   "outputs": [
    {
     "name": "stdout",
     "output_type": "stream",
     "text": [
      "TRAIN : 0.9821761507623142\n",
      "VAL : 0.9818776931395266\n",
      "TEST : 0.9825291359071906\n"
     ]
    }
   ],
   "source": [
    "print(f\"TRAIN : {roc_auc_score(train[target2], model.predict_proba(train.drop(columns=[target1, target2]))[:, 1])}\")\n",
    "print(f\"VAL : {roc_auc_score(val[target2], model.predict_proba(val.drop(columns=[target1, target2]))[:, 1])}\")\n",
    "print(f\"TEST : {roc_auc_score(test[target2], model.predict_proba(test.drop(columns=[target1, target2]))[:, 1])}\")"
   ]
  },
  {
   "cell_type": "code",
   "execution_count": 61,
   "id": "60ad6262-e2f6-4e12-a1a8-09f9822adaa4",
   "metadata": {},
   "outputs": [
    {
     "name": "stdout",
     "output_type": "stream",
     "text": [
      "              precision    recall  f1-score   support\n",
      "\n",
      "           0       0.97      0.99      0.98    180178\n",
      "           1       0.88      0.72      0.79     16918\n",
      "\n",
      "    accuracy                           0.97    197096\n",
      "   macro avg       0.93      0.86      0.89    197096\n",
      "weighted avg       0.97      0.97      0.97    197096\n",
      "\n"
     ]
    }
   ],
   "source": [
    "print(classification_report(test[target2], model.predict(test.drop(columns=[target1, target2]))))"
   ]
  },
  {
   "cell_type": "code",
   "execution_count": 62,
   "id": "5ada2aae-d939-49ba-acb0-03279b3aeb5a",
   "metadata": {},
   "outputs": [],
   "source": [
    "importances = model.get_feature_importance(prettified=True)"
   ]
  },
  {
   "cell_type": "code",
   "execution_count": 63,
   "id": "654a1ab1-afb5-47fd-ba93-f5d657fb86f4",
   "metadata": {},
   "outputs": [
    {
     "data": {
      "text/html": [
       "<div>\n",
       "<style scoped>\n",
       "    .dataframe tbody tr th:only-of-type {\n",
       "        vertical-align: middle;\n",
       "    }\n",
       "\n",
       "    .dataframe tbody tr th {\n",
       "        vertical-align: top;\n",
       "    }\n",
       "\n",
       "    .dataframe thead th {\n",
       "        text-align: right;\n",
       "    }\n",
       "</style>\n",
       "<table border=\"1\" class=\"dataframe\">\n",
       "  <thead>\n",
       "    <tr style=\"text-align: right;\">\n",
       "      <th></th>\n",
       "      <th>Feature Id</th>\n",
       "      <th>Importances</th>\n",
       "    </tr>\n",
       "  </thead>\n",
       "  <tbody>\n",
       "    <tr>\n",
       "      <th>0</th>\n",
       "      <td>amont_day_from</td>\n",
       "      <td>93.860439</td>\n",
       "    </tr>\n",
       "    <tr>\n",
       "      <th>1</th>\n",
       "      <td>trans_3_month</td>\n",
       "      <td>2.042912</td>\n",
       "    </tr>\n",
       "    <tr>\n",
       "      <th>2</th>\n",
       "      <td>Age</td>\n",
       "      <td>1.301401</td>\n",
       "    </tr>\n",
       "    <tr>\n",
       "      <th>3</th>\n",
       "      <td>Gender</td>\n",
       "      <td>0.964734</td>\n",
       "    </tr>\n",
       "    <tr>\n",
       "      <th>4</th>\n",
       "      <td>Income</td>\n",
       "      <td>0.567255</td>\n",
       "    </tr>\n",
       "    <tr>\n",
       "      <th>5</th>\n",
       "      <td>Lifetime</td>\n",
       "      <td>0.501877</td>\n",
       "    </tr>\n",
       "    <tr>\n",
       "      <th>6</th>\n",
       "      <td>District</td>\n",
       "      <td>0.241858</td>\n",
       "    </tr>\n",
       "    <tr>\n",
       "      <th>7</th>\n",
       "      <td>trans_6_month</td>\n",
       "      <td>0.202071</td>\n",
       "    </tr>\n",
       "    <tr>\n",
       "      <th>8</th>\n",
       "      <td>Region</td>\n",
       "      <td>0.157068</td>\n",
       "    </tr>\n",
       "    <tr>\n",
       "      <th>9</th>\n",
       "      <td>Segment</td>\n",
       "      <td>0.102715</td>\n",
       "    </tr>\n",
       "    <tr>\n",
       "      <th>10</th>\n",
       "      <td>Age_group</td>\n",
       "      <td>0.057670</td>\n",
       "    </tr>\n",
       "  </tbody>\n",
       "</table>\n",
       "</div>"
      ],
      "text/plain": [
       "        Feature Id  Importances\n",
       "0   amont_day_from    93.860439\n",
       "1    trans_3_month     2.042912\n",
       "2              Age     1.301401\n",
       "3           Gender     0.964734\n",
       "4           Income     0.567255\n",
       "5         Lifetime     0.501877\n",
       "6         District     0.241858\n",
       "7    trans_6_month     0.202071\n",
       "8           Region     0.157068\n",
       "9          Segment     0.102715\n",
       "10       Age_group     0.057670"
      ]
     },
     "execution_count": 63,
     "metadata": {},
     "output_type": "execute_result"
    }
   ],
   "source": [
    "importances"
   ]
  },
  {
   "cell_type": "code",
   "execution_count": 64,
   "id": "b4d383b4-f382-49b1-82c1-af4410dbb5b1",
   "metadata": {},
   "outputs": [
    {
     "data": {
      "image/png": "[encoded data removed]",
      "text/plain": [
       "<Figure size 800x590 with 2 Axes>"
      ]
     },
     "metadata": {},
     "output_type": "display_data"
    }
   ],
   "source": [
    "import shap\n",
    "\n",
    "explainer = shap.Explainer(model)\n",
    "shap_values = explainer(test.drop(columns=[target1, target2]))\n",
    "\n",
    "shap.summary_plot(shap_values, test.drop(columns=[target1, target2]))"
   ]
  },
  {
   "cell_type": "code",
   "execution_count": null,
   "id": "8ee471df-e94c-4d4b-a725-cb3d597e3773",
   "metadata": {},
   "outputs": [],
   "source": []
  },
  {
   "cell_type": "code",
   "execution_count": 153,
   "id": "bb9de817-3dbe-4ebc-ba59-e8c1193462ef",
   "metadata": {},
   "outputs": [],
   "source": [
    "def objective(trial):\n",
    "    param = {\n",
    "        \"n_estimators\": trial.suggest_int('n_estimators', 100, 1000),\n",
    "        \"learning_rate\": trial.suggest_float('learning_rate', 0.01, 0.3),\n",
    "        \"objective\": trial.suggest_categorical('objective', [\"Logloss\", \"CrossEntropy\"]),\n",
    "        \"depth\": trial.suggest_int('depth', 3, 10),\n",
    "        \"l2_leaf_reg\": trial.suggest_loguniform('l2_leaf_reg', 1e-2, 10),\n",
    "        \"colsample_bylevel\": trial.suggest_float('colsample_bylevel', 0.01, 1.0),\n",
    "        \"min_child_samples\": trial.suggest_float('min_child_samples', 100, 1000, step=100),\n",
    "        \"grow_policy\": trial.suggest_categorical('grow_policy', [\"SymmetricTree\", \"Depthwise\", \"Lossguide\"]),\n",
    "        \"border_count\": trial.suggest_categorical('border_count', [128, 256, 512]),\n",
    "        \"auto_class_weights\": trial.suggest_categorical('auto_class_weight', [None, 'Balanced', 'SqrtBalanced'])\n",
    "    }\n",
    "\n",
    "    if param['objective'] == 'CrossEntropy':\n",
    "        param['auto_class_weights'] = None\n",
    "\n",
    "    model = CatBoostClassifier(**param, verbose = False, random_seed=42)\n",
    "\n",
    "    model.fit(train.drop(columns=[target1, target2]), train[target1], cat_features=cat_features, eval_set = (val.drop(columns=[target1, target2]), val[target1]))\n",
    "\n",
    "    test_roc_auc = roc_auc_score(test[target1], model.predict_proba(test.drop(columns=[target1, target2]))[:, 1])\n",
    "\n",
    "    train_roc_auc = roc_auc_score(train[target1], model.predict_proba(train.drop(columns=[target1, target2]))[:, 1])\n",
    "\n",
    "    if train_roc_auc - test_roc_auc > 0.03:\n",
    "        return 0\n",
    "    else:\n",
    "        return test_roc_auc"
   ]
  },
  {
   "cell_type": "code",
   "execution_count": 155,
   "id": "eeaee298-11f0-4644-b456-1f204079476f",
   "metadata": {},
   "outputs": [
    {
     "name": "stderr",
     "output_type": "stream",
     "text": [
      "[I 2025-05-06 00:36:19,711] A new study created in memory with name: no-name-d0929a2c-8768-46ce-9b98-32c555566f95\n",
      "/var/folders/_k/vxqnb8117qb_1tpg9p98mtyc0000gn/T/ipykernel_22149/2337432607.py:7: FutureWarning: suggest_loguniform has been deprecated in v3.0.0. This feature will be removed in v6.0.0. See https://github.com/optuna/optuna/releases/tag/v3.0.0. Use suggest_float(..., log=True) instead.\n",
      "  \"l2_leaf_reg\": trial.suggest_loguniform('l2_leaf_reg', 1e-2, 10),\n",
      "[I 2025-05-06 00:37:23,616] Trial 0 finished with value: 0.9400118471825535 and parameters: {'n_estimators': 881, 'learning_rate': 0.09731734737197249, 'objective': 'CrossEntropy', 'depth': 3, 'l2_leaf_reg': 0.6336381215043078, 'colsample_bylevel': 0.7527415249863493, 'min_child_samples': 400.0, 'grow_policy': 'Depthwise', 'border_count': 256, 'auto_class_weight': 'SqrtBalanced'}. Best is trial 0 with value: 0.9400118471825535.\n",
      "/var/folders/_k/vxqnb8117qb_1tpg9p98mtyc0000gn/T/ipykernel_22149/2337432607.py:7: FutureWarning: suggest_loguniform has been deprecated in v3.0.0. This feature will be removed in v6.0.0. See https://github.com/optuna/optuna/releases/tag/v3.0.0. Use suggest_float(..., log=True) instead.\n",
      "  \"l2_leaf_reg\": trial.suggest_loguniform('l2_leaf_reg', 1e-2, 10),\n",
      "[I 2025-05-06 00:38:48,219] Trial 1 finished with value: 0.9729241493462017 and parameters: {'n_estimators': 753, 'learning_rate': 0.21349808999402287, 'objective': 'Logloss', 'depth': 6, 'l2_leaf_reg': 0.02989064965709356, 'colsample_bylevel': 0.797186816171399, 'min_child_samples': 700.0, 'grow_policy': 'Depthwise', 'border_count': 512, 'auto_class_weight': None}. Best is trial 1 with value: 0.9729241493462017.\n",
      "/var/folders/_k/vxqnb8117qb_1tpg9p98mtyc0000gn/T/ipykernel_22149/2337432607.py:7: FutureWarning: suggest_loguniform has been deprecated in v3.0.0. This feature will be removed in v6.0.0. See https://github.com/optuna/optuna/releases/tag/v3.0.0. Use suggest_float(..., log=True) instead.\n",
      "  \"l2_leaf_reg\": trial.suggest_loguniform('l2_leaf_reg', 1e-2, 10),\n",
      "[I 2025-05-06 00:39:58,516] Trial 2 finished with value: 0.9529478050974669 and parameters: {'n_estimators': 623, 'learning_rate': 0.06618115908426919, 'objective': 'Logloss', 'depth': 7, 'l2_leaf_reg': 0.37150403140280586, 'colsample_bylevel': 0.6843110496080158, 'min_child_samples': 900.0, 'grow_policy': 'Lossguide', 'border_count': 256, 'auto_class_weight': None}. Best is trial 1 with value: 0.9729241493462017.\n",
      "/var/folders/_k/vxqnb8117qb_1tpg9p98mtyc0000gn/T/ipykernel_22149/2337432607.py:7: FutureWarning: suggest_loguniform has been deprecated in v3.0.0. This feature will be removed in v6.0.0. See https://github.com/optuna/optuna/releases/tag/v3.0.0. Use suggest_float(..., log=True) instead.\n",
      "  \"l2_leaf_reg\": trial.suggest_loguniform('l2_leaf_reg', 1e-2, 10),\n",
      "[I 2025-05-06 00:40:37,735] Trial 3 finished with value: 0.9459150571203405 and parameters: {'n_estimators': 457, 'learning_rate': 0.20225329364569267, 'objective': 'Logloss', 'depth': 8, 'l2_leaf_reg': 4.102808427900884, 'colsample_bylevel': 0.15501582952404194, 'min_child_samples': 1000.0, 'grow_policy': 'Lossguide', 'border_count': 512, 'auto_class_weight': 'Balanced'}. Best is trial 1 with value: 0.9729241493462017.\n",
      "/var/folders/_k/vxqnb8117qb_1tpg9p98mtyc0000gn/T/ipykernel_22149/2337432607.py:7: FutureWarning: suggest_loguniform has been deprecated in v3.0.0. This feature will be removed in v6.0.0. See https://github.com/optuna/optuna/releases/tag/v3.0.0. Use suggest_float(..., log=True) instead.\n",
      "  \"l2_leaf_reg\": trial.suggest_loguniform('l2_leaf_reg', 1e-2, 10),\n",
      "[W 2025-05-06 00:41:07,805] Trial 4 failed with parameters: {'n_estimators': 736, 'learning_rate': 0.06231276931594397, 'objective': 'Logloss', 'depth': 8, 'l2_leaf_reg': 4.7330979598846366, 'colsample_bylevel': 0.28506490449875427, 'min_child_samples': 300.0, 'grow_policy': 'Depthwise', 'border_count': 512, 'auto_class_weight': 'Balanced'} because of the following error: KeyboardInterrupt('').\n",
      "Traceback (most recent call last):\n",
      "  File \"/Library/Frameworks/Python.framework/Versions/3.9/lib/python3.9/site-packages/optuna/study/_optimize.py\", line 197, in _run_trial\n",
      "    value_or_values = func(trial)\n",
      "  File \"/var/folders/_k/vxqnb8117qb_1tpg9p98mtyc0000gn/T/ipykernel_22149/2337432607.py\", line 20, in objective\n",
      "    model.fit(train.drop(columns=[target1, target2]), train[target1], cat_features=cat_features, eval_set = (val.drop(columns=[target1, target2]), val[target1]))\n",
      "  File \"/Library/Frameworks/Python.framework/Versions/3.9/lib/python3.9/site-packages/catboost/core.py\", line 5245, in fit\n",
      "    self._fit(X, y, cat_features, text_features, embedding_features, None, graph, sample_weight, None, None, None, None, baseline, use_best_model,\n",
      "  File \"/Library/Frameworks/Python.framework/Versions/3.9/lib/python3.9/site-packages/catboost/core.py\", line 2410, in _fit\n",
      "    self._train(\n",
      "  File \"/Library/Frameworks/Python.framework/Versions/3.9/lib/python3.9/site-packages/catboost/core.py\", line 1790, in _train\n",
      "    self._object._train(train_pool, test_pool, params, allow_clear_pool, init_model._object if init_model else None)\n",
      "  File \"_catboost.pyx\", line 5017, in _catboost._CatBoost._train\n",
      "  File \"_catboost.pyx\", line 5066, in _catboost._CatBoost._train\n",
      "KeyboardInterrupt\n",
      "[W 2025-05-06 00:41:07,807] Trial 4 failed with value None.\n"
     ]
    },
    {
     "ename": "KeyboardInterrupt",
     "evalue": "",
     "output_type": "error",
     "traceback": [
      "\u001b[0;31m---------------------------------------------------------------------------\u001b[0m",
      "\u001b[0;31mKeyboardInterrupt\u001b[0m                         Traceback (most recent call last)",
      "Cell \u001b[0;32mIn [155], line 2\u001b[0m\n\u001b[1;32m      1\u001b[0m study \u001b[38;5;241m=\u001b[39m optuna\u001b[38;5;241m.\u001b[39mcreate_study(direction\u001b[38;5;241m=\u001b[39m\u001b[38;5;124m'\u001b[39m\u001b[38;5;124mmaximize\u001b[39m\u001b[38;5;124m'\u001b[39m)\n\u001b[0;32m----> 2\u001b[0m \u001b[43mstudy\u001b[49m\u001b[38;5;241;43m.\u001b[39;49m\u001b[43moptimize\u001b[49m\u001b[43m(\u001b[49m\u001b[43mobjective\u001b[49m\u001b[43m,\u001b[49m\u001b[43m \u001b[49m\u001b[43mn_trials\u001b[49m\u001b[38;5;241;43m=\u001b[39;49m\u001b[38;5;241;43m100\u001b[39;49m\u001b[43m)\u001b[49m\n",
      "File \u001b[0;32m/Library/Frameworks/Python.framework/Versions/3.9/lib/python3.9/site-packages/optuna/study/study.py:475\u001b[0m, in \u001b[0;36mStudy.optimize\u001b[0;34m(self, func, n_trials, timeout, n_jobs, catch, callbacks, gc_after_trial, show_progress_bar)\u001b[0m\n\u001b[1;32m    373\u001b[0m \u001b[38;5;28;01mdef\u001b[39;00m \u001b[38;5;21moptimize\u001b[39m(\n\u001b[1;32m    374\u001b[0m     \u001b[38;5;28mself\u001b[39m,\n\u001b[1;32m    375\u001b[0m     func: ObjectiveFuncType,\n\u001b[0;32m   (...)\u001b[0m\n\u001b[1;32m    382\u001b[0m     show_progress_bar: \u001b[38;5;28mbool\u001b[39m \u001b[38;5;241m=\u001b[39m \u001b[38;5;28;01mFalse\u001b[39;00m,\n\u001b[1;32m    383\u001b[0m ) \u001b[38;5;241m-\u001b[39m\u001b[38;5;241m>\u001b[39m \u001b[38;5;28;01mNone\u001b[39;00m:\n\u001b[1;32m    384\u001b[0m     \u001b[38;5;124;03m\"\"\"Optimize an objective function.\u001b[39;00m\n\u001b[1;32m    385\u001b[0m \n\u001b[1;32m    386\u001b[0m \u001b[38;5;124;03m    Optimization is done by choosing a suitable set of hyperparameter values from a given\u001b[39;00m\n\u001b[0;32m   (...)\u001b[0m\n\u001b[1;32m    473\u001b[0m \u001b[38;5;124;03m            If nested invocation of this method occurs.\u001b[39;00m\n\u001b[1;32m    474\u001b[0m \u001b[38;5;124;03m    \"\"\"\u001b[39;00m\n\u001b[0;32m--> 475\u001b[0m     \u001b[43m_optimize\u001b[49m\u001b[43m(\u001b[49m\n\u001b[1;32m    476\u001b[0m \u001b[43m        \u001b[49m\u001b[43mstudy\u001b[49m\u001b[38;5;241;43m=\u001b[39;49m\u001b[38;5;28;43mself\u001b[39;49m\u001b[43m,\u001b[49m\n\u001b[1;32m    477\u001b[0m \u001b[43m        \u001b[49m\u001b[43mfunc\u001b[49m\u001b[38;5;241;43m=\u001b[39;49m\u001b[43mfunc\u001b[49m\u001b[43m,\u001b[49m\n\u001b[1;32m    478\u001b[0m \u001b[43m        \u001b[49m\u001b[43mn_trials\u001b[49m\u001b[38;5;241;43m=\u001b[39;49m\u001b[43mn_trials\u001b[49m\u001b[43m,\u001b[49m\n\u001b[1;32m    479\u001b[0m \u001b[43m        \u001b[49m\u001b[43mtimeout\u001b[49m\u001b[38;5;241;43m=\u001b[39;49m\u001b[43mtimeout\u001b[49m\u001b[43m,\u001b[49m\n\u001b[1;32m    480\u001b[0m \u001b[43m        \u001b[49m\u001b[43mn_jobs\u001b[49m\u001b[38;5;241;43m=\u001b[39;49m\u001b[43mn_jobs\u001b[49m\u001b[43m,\u001b[49m\n\u001b[1;32m    481\u001b[0m \u001b[43m        \u001b[49m\u001b[43mcatch\u001b[49m\u001b[38;5;241;43m=\u001b[39;49m\u001b[38;5;28;43mtuple\u001b[39;49m\u001b[43m(\u001b[49m\u001b[43mcatch\u001b[49m\u001b[43m)\u001b[49m\u001b[43m \u001b[49m\u001b[38;5;28;43;01mif\u001b[39;49;00m\u001b[43m \u001b[49m\u001b[38;5;28;43misinstance\u001b[39;49m\u001b[43m(\u001b[49m\u001b[43mcatch\u001b[49m\u001b[43m,\u001b[49m\u001b[43m \u001b[49m\u001b[43mIterable\u001b[49m\u001b[43m)\u001b[49m\u001b[43m \u001b[49m\u001b[38;5;28;43;01melse\u001b[39;49;00m\u001b[43m \u001b[49m\u001b[43m(\u001b[49m\u001b[43mcatch\u001b[49m\u001b[43m,\u001b[49m\u001b[43m)\u001b[49m\u001b[43m,\u001b[49m\n\u001b[1;32m    482\u001b[0m \u001b[43m        \u001b[49m\u001b[43mcallbacks\u001b[49m\u001b[38;5;241;43m=\u001b[39;49m\u001b[43mcallbacks\u001b[49m\u001b[43m,\u001b[49m\n\u001b[1;32m    483\u001b[0m \u001b[43m        \u001b[49m\u001b[43mgc_after_trial\u001b[49m\u001b[38;5;241;43m=\u001b[39;49m\u001b[43mgc_after_trial\u001b[49m\u001b[43m,\u001b[49m\n\u001b[1;32m    484\u001b[0m \u001b[43m        \u001b[49m\u001b[43mshow_progress_bar\u001b[49m\u001b[38;5;241;43m=\u001b[39;49m\u001b[43mshow_progress_bar\u001b[49m\u001b[43m,\u001b[49m\n\u001b[1;32m    485\u001b[0m \u001b[43m    \u001b[49m\u001b[43m)\u001b[49m\n",
      "File \u001b[0;32m/Library/Frameworks/Python.framework/Versions/3.9/lib/python3.9/site-packages/optuna/study/_optimize.py:63\u001b[0m, in \u001b[0;36m_optimize\u001b[0;34m(study, func, n_trials, timeout, n_jobs, catch, callbacks, gc_after_trial, show_progress_bar)\u001b[0m\n\u001b[1;32m     61\u001b[0m \u001b[38;5;28;01mtry\u001b[39;00m:\n\u001b[1;32m     62\u001b[0m     \u001b[38;5;28;01mif\u001b[39;00m n_jobs \u001b[38;5;241m==\u001b[39m \u001b[38;5;241m1\u001b[39m:\n\u001b[0;32m---> 63\u001b[0m         \u001b[43m_optimize_sequential\u001b[49m\u001b[43m(\u001b[49m\n\u001b[1;32m     64\u001b[0m \u001b[43m            \u001b[49m\u001b[43mstudy\u001b[49m\u001b[43m,\u001b[49m\n\u001b[1;32m     65\u001b[0m \u001b[43m            \u001b[49m\u001b[43mfunc\u001b[49m\u001b[43m,\u001b[49m\n\u001b[1;32m     66\u001b[0m \u001b[43m            \u001b[49m\u001b[43mn_trials\u001b[49m\u001b[43m,\u001b[49m\n\u001b[1;32m     67\u001b[0m \u001b[43m            \u001b[49m\u001b[43mtimeout\u001b[49m\u001b[43m,\u001b[49m\n\u001b[1;32m     68\u001b[0m \u001b[43m            \u001b[49m\u001b[43mcatch\u001b[49m\u001b[43m,\u001b[49m\n\u001b[1;32m     69\u001b[0m \u001b[43m            \u001b[49m\u001b[43mcallbacks\u001b[49m\u001b[43m,\u001b[49m\n\u001b[1;32m     70\u001b[0m \u001b[43m            \u001b[49m\u001b[43mgc_after_trial\u001b[49m\u001b[43m,\u001b[49m\n\u001b[1;32m     71\u001b[0m \u001b[43m            \u001b[49m\u001b[43mreseed_sampler_rng\u001b[49m\u001b[38;5;241;43m=\u001b[39;49m\u001b[38;5;28;43;01mFalse\u001b[39;49;00m\u001b[43m,\u001b[49m\n\u001b[1;32m     72\u001b[0m \u001b[43m            \u001b[49m\u001b[43mtime_start\u001b[49m\u001b[38;5;241;43m=\u001b[39;49m\u001b[38;5;28;43;01mNone\u001b[39;49;00m\u001b[43m,\u001b[49m\n\u001b[1;32m     73\u001b[0m \u001b[43m            \u001b[49m\u001b[43mprogress_bar\u001b[49m\u001b[38;5;241;43m=\u001b[39;49m\u001b[43mprogress_bar\u001b[49m\u001b[43m,\u001b[49m\n\u001b[1;32m     74\u001b[0m \u001b[43m        \u001b[49m\u001b[43m)\u001b[49m\n\u001b[1;32m     75\u001b[0m     \u001b[38;5;28;01melse\u001b[39;00m:\n\u001b[1;32m     76\u001b[0m         \u001b[38;5;28;01mif\u001b[39;00m n_jobs \u001b[38;5;241m==\u001b[39m \u001b[38;5;241m-\u001b[39m\u001b[38;5;241m1\u001b[39m:\n",
      "File \u001b[0;32m/Library/Frameworks/Python.framework/Versions/3.9/lib/python3.9/site-packages/optuna/study/_optimize.py:160\u001b[0m, in \u001b[0;36m_optimize_sequential\u001b[0;34m(study, func, n_trials, timeout, catch, callbacks, gc_after_trial, reseed_sampler_rng, time_start, progress_bar)\u001b[0m\n\u001b[1;32m    157\u001b[0m         \u001b[38;5;28;01mbreak\u001b[39;00m\n\u001b[1;32m    159\u001b[0m \u001b[38;5;28;01mtry\u001b[39;00m:\n\u001b[0;32m--> 160\u001b[0m     frozen_trial \u001b[38;5;241m=\u001b[39m \u001b[43m_run_trial\u001b[49m\u001b[43m(\u001b[49m\u001b[43mstudy\u001b[49m\u001b[43m,\u001b[49m\u001b[43m \u001b[49m\u001b[43mfunc\u001b[49m\u001b[43m,\u001b[49m\u001b[43m \u001b[49m\u001b[43mcatch\u001b[49m\u001b[43m)\u001b[49m\n\u001b[1;32m    161\u001b[0m \u001b[38;5;28;01mfinally\u001b[39;00m:\n\u001b[1;32m    162\u001b[0m     \u001b[38;5;66;03m# The following line mitigates memory problems that can be occurred in some\u001b[39;00m\n\u001b[1;32m    163\u001b[0m     \u001b[38;5;66;03m# environments (e.g., services that use computing containers such as GitHub Actions).\u001b[39;00m\n\u001b[1;32m    164\u001b[0m     \u001b[38;5;66;03m# Please refer to the following PR for further details:\u001b[39;00m\n\u001b[1;32m    165\u001b[0m     \u001b[38;5;66;03m# https://github.com/optuna/optuna/pull/325.\u001b[39;00m\n\u001b[1;32m    166\u001b[0m     \u001b[38;5;28;01mif\u001b[39;00m gc_after_trial:\n",
      "File \u001b[0;32m/Library/Frameworks/Python.framework/Versions/3.9/lib/python3.9/site-packages/optuna/study/_optimize.py:248\u001b[0m, in \u001b[0;36m_run_trial\u001b[0;34m(study, func, catch)\u001b[0m\n\u001b[1;32m    241\u001b[0m         \u001b[38;5;28;01massert\u001b[39;00m \u001b[38;5;28;01mFalse\u001b[39;00m, \u001b[38;5;124m\"\u001b[39m\u001b[38;5;124mShould not reach.\u001b[39m\u001b[38;5;124m\"\u001b[39m\n\u001b[1;32m    243\u001b[0m \u001b[38;5;28;01mif\u001b[39;00m (\n\u001b[1;32m    244\u001b[0m     frozen_trial\u001b[38;5;241m.\u001b[39mstate \u001b[38;5;241m==\u001b[39m TrialState\u001b[38;5;241m.\u001b[39mFAIL\n\u001b[1;32m    245\u001b[0m     \u001b[38;5;129;01mand\u001b[39;00m func_err \u001b[38;5;129;01mis\u001b[39;00m \u001b[38;5;129;01mnot\u001b[39;00m \u001b[38;5;28;01mNone\u001b[39;00m\n\u001b[1;32m    246\u001b[0m     \u001b[38;5;129;01mand\u001b[39;00m \u001b[38;5;129;01mnot\u001b[39;00m \u001b[38;5;28misinstance\u001b[39m(func_err, catch)\n\u001b[1;32m    247\u001b[0m ):\n\u001b[0;32m--> 248\u001b[0m     \u001b[38;5;28;01mraise\u001b[39;00m func_err\n\u001b[1;32m    249\u001b[0m \u001b[38;5;28;01mreturn\u001b[39;00m frozen_trial\n",
      "File \u001b[0;32m/Library/Frameworks/Python.framework/Versions/3.9/lib/python3.9/site-packages/optuna/study/_optimize.py:197\u001b[0m, in \u001b[0;36m_run_trial\u001b[0;34m(study, func, catch)\u001b[0m\n\u001b[1;32m    195\u001b[0m \u001b[38;5;28;01mwith\u001b[39;00m get_heartbeat_thread(trial\u001b[38;5;241m.\u001b[39m_trial_id, study\u001b[38;5;241m.\u001b[39m_storage):\n\u001b[1;32m    196\u001b[0m     \u001b[38;5;28;01mtry\u001b[39;00m:\n\u001b[0;32m--> 197\u001b[0m         value_or_values \u001b[38;5;241m=\u001b[39m \u001b[43mfunc\u001b[49m\u001b[43m(\u001b[49m\u001b[43mtrial\u001b[49m\u001b[43m)\u001b[49m\n\u001b[1;32m    198\u001b[0m     \u001b[38;5;28;01mexcept\u001b[39;00m exceptions\u001b[38;5;241m.\u001b[39mTrialPruned \u001b[38;5;28;01mas\u001b[39;00m e:\n\u001b[1;32m    199\u001b[0m         \u001b[38;5;66;03m# TODO(mamu): Handle multi-objective cases.\u001b[39;00m\n\u001b[1;32m    200\u001b[0m         state \u001b[38;5;241m=\u001b[39m TrialState\u001b[38;5;241m.\u001b[39mPRUNED\n",
      "Cell \u001b[0;32mIn [153], line 20\u001b[0m, in \u001b[0;36mobjective\u001b[0;34m(trial)\u001b[0m\n\u001b[1;32m     16\u001b[0m     param[\u001b[38;5;124m'\u001b[39m\u001b[38;5;124mauto_class_weights\u001b[39m\u001b[38;5;124m'\u001b[39m] \u001b[38;5;241m=\u001b[39m \u001b[38;5;28;01mNone\u001b[39;00m\n\u001b[1;32m     18\u001b[0m model \u001b[38;5;241m=\u001b[39m CatBoostClassifier(\u001b[38;5;241m*\u001b[39m\u001b[38;5;241m*\u001b[39mparam, verbose \u001b[38;5;241m=\u001b[39m \u001b[38;5;28;01mFalse\u001b[39;00m, random_seed\u001b[38;5;241m=\u001b[39m\u001b[38;5;241m42\u001b[39m)\n\u001b[0;32m---> 20\u001b[0m \u001b[43mmodel\u001b[49m\u001b[38;5;241;43m.\u001b[39;49m\u001b[43mfit\u001b[49m\u001b[43m(\u001b[49m\u001b[43mtrain\u001b[49m\u001b[38;5;241;43m.\u001b[39;49m\u001b[43mdrop\u001b[49m\u001b[43m(\u001b[49m\u001b[43mcolumns\u001b[49m\u001b[38;5;241;43m=\u001b[39;49m\u001b[43m[\u001b[49m\u001b[43mtarget1\u001b[49m\u001b[43m,\u001b[49m\u001b[43m \u001b[49m\u001b[43mtarget2\u001b[49m\u001b[43m]\u001b[49m\u001b[43m)\u001b[49m\u001b[43m,\u001b[49m\u001b[43m \u001b[49m\u001b[43mtrain\u001b[49m\u001b[43m[\u001b[49m\u001b[43mtarget1\u001b[49m\u001b[43m]\u001b[49m\u001b[43m,\u001b[49m\u001b[43m \u001b[49m\u001b[43mcat_features\u001b[49m\u001b[38;5;241;43m=\u001b[39;49m\u001b[43mcat_features\u001b[49m\u001b[43m,\u001b[49m\u001b[43m \u001b[49m\u001b[43meval_set\u001b[49m\u001b[43m \u001b[49m\u001b[38;5;241;43m=\u001b[39;49m\u001b[43m \u001b[49m\u001b[43m(\u001b[49m\u001b[43mval\u001b[49m\u001b[38;5;241;43m.\u001b[39;49m\u001b[43mdrop\u001b[49m\u001b[43m(\u001b[49m\u001b[43mcolumns\u001b[49m\u001b[38;5;241;43m=\u001b[39;49m\u001b[43m[\u001b[49m\u001b[43mtarget1\u001b[49m\u001b[43m,\u001b[49m\u001b[43m \u001b[49m\u001b[43mtarget2\u001b[49m\u001b[43m]\u001b[49m\u001b[43m)\u001b[49m\u001b[43m,\u001b[49m\u001b[43m \u001b[49m\u001b[43mval\u001b[49m\u001b[43m[\u001b[49m\u001b[43mtarget1\u001b[49m\u001b[43m]\u001b[49m\u001b[43m)\u001b[49m\u001b[43m)\u001b[49m\n\u001b[1;32m     22\u001b[0m test_roc_auc \u001b[38;5;241m=\u001b[39m roc_auc_score(test[target1], model\u001b[38;5;241m.\u001b[39mpredict_proba(test\u001b[38;5;241m.\u001b[39mdrop(columns\u001b[38;5;241m=\u001b[39m[target1, target2]))[:, \u001b[38;5;241m1\u001b[39m])\n\u001b[1;32m     24\u001b[0m train_roc_auc \u001b[38;5;241m=\u001b[39m roc_auc_score(train[target1], model\u001b[38;5;241m.\u001b[39mpredict_proba(train\u001b[38;5;241m.\u001b[39mdrop(columns\u001b[38;5;241m=\u001b[39m[target1, target2]))[:, \u001b[38;5;241m1\u001b[39m])\n",
      "File \u001b[0;32m/Library/Frameworks/Python.framework/Versions/3.9/lib/python3.9/site-packages/catboost/core.py:5245\u001b[0m, in \u001b[0;36mCatBoostClassifier.fit\u001b[0;34m(self, X, y, cat_features, text_features, embedding_features, graph, sample_weight, baseline, use_best_model, eval_set, verbose, logging_level, plot, plot_file, column_description, verbose_eval, metric_period, silent, early_stopping_rounds, save_snapshot, snapshot_file, snapshot_interval, init_model, callbacks, log_cout, log_cerr)\u001b[0m\n\u001b[1;32m   5242\u001b[0m \u001b[38;5;28;01mif\u001b[39;00m \u001b[38;5;124m'\u001b[39m\u001b[38;5;124mloss_function\u001b[39m\u001b[38;5;124m'\u001b[39m \u001b[38;5;129;01min\u001b[39;00m params:\n\u001b[1;32m   5243\u001b[0m     CatBoostClassifier\u001b[38;5;241m.\u001b[39m_check_is_compatible_loss(params[\u001b[38;5;124m'\u001b[39m\u001b[38;5;124mloss_function\u001b[39m\u001b[38;5;124m'\u001b[39m])\n\u001b[0;32m-> 5245\u001b[0m \u001b[38;5;28;43mself\u001b[39;49m\u001b[38;5;241;43m.\u001b[39;49m\u001b[43m_fit\u001b[49m\u001b[43m(\u001b[49m\u001b[43mX\u001b[49m\u001b[43m,\u001b[49m\u001b[43m \u001b[49m\u001b[43my\u001b[49m\u001b[43m,\u001b[49m\u001b[43m \u001b[49m\u001b[43mcat_features\u001b[49m\u001b[43m,\u001b[49m\u001b[43m \u001b[49m\u001b[43mtext_features\u001b[49m\u001b[43m,\u001b[49m\u001b[43m \u001b[49m\u001b[43membedding_features\u001b[49m\u001b[43m,\u001b[49m\u001b[43m \u001b[49m\u001b[38;5;28;43;01mNone\u001b[39;49;00m\u001b[43m,\u001b[49m\u001b[43m \u001b[49m\u001b[43mgraph\u001b[49m\u001b[43m,\u001b[49m\u001b[43m \u001b[49m\u001b[43msample_weight\u001b[49m\u001b[43m,\u001b[49m\u001b[43m \u001b[49m\u001b[38;5;28;43;01mNone\u001b[39;49;00m\u001b[43m,\u001b[49m\u001b[43m \u001b[49m\u001b[38;5;28;43;01mNone\u001b[39;49;00m\u001b[43m,\u001b[49m\u001b[43m \u001b[49m\u001b[38;5;28;43;01mNone\u001b[39;49;00m\u001b[43m,\u001b[49m\u001b[43m \u001b[49m\u001b[38;5;28;43;01mNone\u001b[39;49;00m\u001b[43m,\u001b[49m\u001b[43m \u001b[49m\u001b[43mbaseline\u001b[49m\u001b[43m,\u001b[49m\u001b[43m \u001b[49m\u001b[43muse_best_model\u001b[49m\u001b[43m,\u001b[49m\n\u001b[1;32m   5246\u001b[0m \u001b[43m          \u001b[49m\u001b[43meval_set\u001b[49m\u001b[43m,\u001b[49m\u001b[43m \u001b[49m\u001b[43mverbose\u001b[49m\u001b[43m,\u001b[49m\u001b[43m \u001b[49m\u001b[43mlogging_level\u001b[49m\u001b[43m,\u001b[49m\u001b[43m \u001b[49m\u001b[43mplot\u001b[49m\u001b[43m,\u001b[49m\u001b[43m \u001b[49m\u001b[43mplot_file\u001b[49m\u001b[43m,\u001b[49m\u001b[43m \u001b[49m\u001b[43mcolumn_description\u001b[49m\u001b[43m,\u001b[49m\u001b[43m \u001b[49m\u001b[43mverbose_eval\u001b[49m\u001b[43m,\u001b[49m\u001b[43m \u001b[49m\u001b[43mmetric_period\u001b[49m\u001b[43m,\u001b[49m\n\u001b[1;32m   5247\u001b[0m \u001b[43m          \u001b[49m\u001b[43msilent\u001b[49m\u001b[43m,\u001b[49m\u001b[43m \u001b[49m\u001b[43mearly_stopping_rounds\u001b[49m\u001b[43m,\u001b[49m\u001b[43m \u001b[49m\u001b[43msave_snapshot\u001b[49m\u001b[43m,\u001b[49m\u001b[43m \u001b[49m\u001b[43msnapshot_file\u001b[49m\u001b[43m,\u001b[49m\u001b[43m \u001b[49m\u001b[43msnapshot_interval\u001b[49m\u001b[43m,\u001b[49m\u001b[43m \u001b[49m\u001b[43minit_model\u001b[49m\u001b[43m,\u001b[49m\u001b[43m \u001b[49m\u001b[43mcallbacks\u001b[49m\u001b[43m,\u001b[49m\u001b[43m \u001b[49m\u001b[43mlog_cout\u001b[49m\u001b[43m,\u001b[49m\u001b[43m \u001b[49m\u001b[43mlog_cerr\u001b[49m\u001b[43m)\u001b[49m\n\u001b[1;32m   5248\u001b[0m \u001b[38;5;28;01mreturn\u001b[39;00m \u001b[38;5;28mself\u001b[39m\n",
      "File \u001b[0;32m/Library/Frameworks/Python.framework/Versions/3.9/lib/python3.9/site-packages/catboost/core.py:2410\u001b[0m, in \u001b[0;36mCatBoost._fit\u001b[0;34m(self, X, y, cat_features, text_features, embedding_features, pairs, graph, sample_weight, group_id, group_weight, subgroup_id, pairs_weight, baseline, use_best_model, eval_set, verbose, logging_level, plot, plot_file, column_description, verbose_eval, metric_period, silent, early_stopping_rounds, save_snapshot, snapshot_file, snapshot_interval, init_model, callbacks, log_cout, log_cerr)\u001b[0m\n\u001b[1;32m   2407\u001b[0m allow_clear_pool \u001b[38;5;241m=\u001b[39m train_params[\u001b[38;5;124m\"\u001b[39m\u001b[38;5;124mallow_clear_pool\u001b[39m\u001b[38;5;124m\"\u001b[39m]\n\u001b[1;32m   2409\u001b[0m \u001b[38;5;28;01mwith\u001b[39;00m plot_wrapper(plot, plot_file, \u001b[38;5;124m'\u001b[39m\u001b[38;5;124mTraining plots\u001b[39m\u001b[38;5;124m'\u001b[39m, [_get_train_dir(\u001b[38;5;28mself\u001b[39m\u001b[38;5;241m.\u001b[39mget_params())]):\n\u001b[0;32m-> 2410\u001b[0m     \u001b[38;5;28;43mself\u001b[39;49m\u001b[38;5;241;43m.\u001b[39;49m\u001b[43m_train\u001b[49m\u001b[43m(\u001b[49m\n\u001b[1;32m   2411\u001b[0m \u001b[43m        \u001b[49m\u001b[43mtrain_pool\u001b[49m\u001b[43m,\u001b[49m\n\u001b[1;32m   2412\u001b[0m \u001b[43m        \u001b[49m\u001b[43mtrain_params\u001b[49m\u001b[43m[\u001b[49m\u001b[38;5;124;43m\"\u001b[39;49m\u001b[38;5;124;43meval_sets\u001b[39;49m\u001b[38;5;124;43m\"\u001b[39;49m\u001b[43m]\u001b[49m\u001b[43m,\u001b[49m\n\u001b[1;32m   2413\u001b[0m \u001b[43m        \u001b[49m\u001b[43mparams\u001b[49m\u001b[43m,\u001b[49m\n\u001b[1;32m   2414\u001b[0m \u001b[43m        \u001b[49m\u001b[43mallow_clear_pool\u001b[49m\u001b[43m,\u001b[49m\n\u001b[1;32m   2415\u001b[0m \u001b[43m        \u001b[49m\u001b[43mtrain_params\u001b[49m\u001b[43m[\u001b[49m\u001b[38;5;124;43m\"\u001b[39;49m\u001b[38;5;124;43minit_model\u001b[39;49m\u001b[38;5;124;43m\"\u001b[39;49m\u001b[43m]\u001b[49m\n\u001b[1;32m   2416\u001b[0m \u001b[43m    \u001b[49m\u001b[43m)\u001b[49m\n\u001b[1;32m   2418\u001b[0m \u001b[38;5;66;03m# Have property feature_importance possibly set\u001b[39;00m\n\u001b[1;32m   2419\u001b[0m loss \u001b[38;5;241m=\u001b[39m \u001b[38;5;28mself\u001b[39m\u001b[38;5;241m.\u001b[39m_object\u001b[38;5;241m.\u001b[39m_get_loss_function_name()\n",
      "File \u001b[0;32m/Library/Frameworks/Python.framework/Versions/3.9/lib/python3.9/site-packages/catboost/core.py:1790\u001b[0m, in \u001b[0;36m_CatBoostBase._train\u001b[0;34m(self, train_pool, test_pool, params, allow_clear_pool, init_model)\u001b[0m\n\u001b[1;32m   1789\u001b[0m \u001b[38;5;28;01mdef\u001b[39;00m \u001b[38;5;21m_train\u001b[39m(\u001b[38;5;28mself\u001b[39m, train_pool, test_pool, params, allow_clear_pool, init_model):\n\u001b[0;32m-> 1790\u001b[0m     \u001b[38;5;28;43mself\u001b[39;49m\u001b[38;5;241;43m.\u001b[39;49m\u001b[43m_object\u001b[49m\u001b[38;5;241;43m.\u001b[39;49m\u001b[43m_train\u001b[49m\u001b[43m(\u001b[49m\u001b[43mtrain_pool\u001b[49m\u001b[43m,\u001b[49m\u001b[43m \u001b[49m\u001b[43mtest_pool\u001b[49m\u001b[43m,\u001b[49m\u001b[43m \u001b[49m\u001b[43mparams\u001b[49m\u001b[43m,\u001b[49m\u001b[43m \u001b[49m\u001b[43mallow_clear_pool\u001b[49m\u001b[43m,\u001b[49m\u001b[43m \u001b[49m\u001b[43minit_model\u001b[49m\u001b[38;5;241;43m.\u001b[39;49m\u001b[43m_object\u001b[49m\u001b[43m \u001b[49m\u001b[38;5;28;43;01mif\u001b[39;49;00m\u001b[43m \u001b[49m\u001b[43minit_model\u001b[49m\u001b[43m \u001b[49m\u001b[38;5;28;43;01melse\u001b[39;49;00m\u001b[43m \u001b[49m\u001b[38;5;28;43;01mNone\u001b[39;49;00m\u001b[43m)\u001b[49m\n\u001b[1;32m   1791\u001b[0m     \u001b[38;5;28mself\u001b[39m\u001b[38;5;241m.\u001b[39m_set_trained_model_attributes()\n",
      "File \u001b[0;32m_catboost.pyx:5017\u001b[0m, in \u001b[0;36m_catboost._CatBoost._train\u001b[0;34m()\u001b[0m\n",
      "File \u001b[0;32m_catboost.pyx:5066\u001b[0m, in \u001b[0;36m_catboost._CatBoost._train\u001b[0;34m()\u001b[0m\n",
      "\u001b[0;31mKeyboardInterrupt\u001b[0m: "
     ]
    }
   ],
   "source": [
    "study = optuna.create_study(direction='maximize')\n",
    "study.optimize(objective, n_trials=100)"
   ]
  },
  {
   "cell_type": "code",
   "execution_count": null,
   "id": "c65c87a1-4c8b-4002-94ac-69fc6ac13c52",
   "metadata": {},
   "outputs": [],
   "source": [
    "print(study.best_params)"
   ]
  },
  {
   "cell_type": "code",
   "execution_count": null,
   "id": "a0882aaf-6802-4709-895f-ff2b25d2e65e",
   "metadata": {},
   "outputs": [],
   "source": []
  }
 ],
 "metadata": {
  "kernelspec": {
   "display_name": "Python 3 (ipykernel)",
   "language": "python",
   "name": "python3"
  },
  "language_info": {
   "codemirror_mode": {
    "name": "ipython",
    "version": 3
   },
   "file_extension": ".py",
   "mimetype": "text/x-python",
   "name": "python",
   "nbconvert_exporter": "python",
   "pygments_lexer": "ipython3",
   "version": "3.9.12"
  }
 },
 "nbformat": 4,
 "nbformat_minor": 5
}
