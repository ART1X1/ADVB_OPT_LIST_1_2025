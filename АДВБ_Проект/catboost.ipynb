{
 "cells": [
  {
   "cell_type": "code",
   "execution_count": 125,
   "id": "47ac796b-33ae-4bd8-9807-fe4f3da61eb0",
   "metadata": {},
   "outputs": [],
   "source": [
    "from imblearn.over_sampling import SMOTE\n",
    "from sklearn.model_selection import GridSearchCV\n",
    "from xgboost import XGBClassifier\n",
    "from sklearn.metrics import classification_report, roc_auc_score\n",
    "from sklearn.pipeline import Pipeline\n",
    "from sklearn.compose import ColumnTransformer\n",
    "from sklearn.preprocessing import StandardScaler, OneHotEncoder\n",
    "from sklearn.impute import SimpleImputer\n",
    "import pandas as pd\n",
    "import pandas as pd\n",
    "from sklearn.model_selection import train_test_split\n",
    "from sklearn.linear_model import LogisticRegression, Ridge\n",
    "from sklearn.preprocessing import StandardScaler, PolynomialFeatures, PolynomialFeatures, StandardScaler, OneHotEncoder\n",
    "from sklearn.metrics import roc_auc_score, f1_score, accuracy_score, classification_report\n",
    "from sklearn.metrics import accuracy_score, precision_score, recall_score\n",
    "from sklearn.decomposition import PCA\n",
    "from sklearn.ensemble import GradientBoostingClassifier\n",
    "import matplotlib.pyplot as plt\n",
    "import seaborn as sns\n",
    "import catboost\n",
    "from catboost import CatBoostClassifier\n",
    "import optuna \n",
    "from sklearn.metrics import f1_score, roc_auc_score, precision_score, recall_score, classification_report\n",
    "from sklearn.inspection import permutation_importance\n",
    "import matplotlib.pyplot as plt\n",
    "import seaborn as sns"
   ]
  },
  {
   "cell_type": "code",
   "execution_count": 141,
   "id": "04c8f67c-43d8-43df-8a8a-1bab4f9ec3c2",
   "metadata": {},
   "outputs": [],
   "source": [
    "df = pd.read_csv('WORK_bank_data_train.csv', sep=';')"
   ]
  },
  {
   "cell_type": "code",
   "execution_count": 142,
   "id": "947d4b93-5478-4d4e-9c5a-22be093166e5",
   "metadata": {},
   "outputs": [],
   "source": [
    "df = df.drop(columns='ID')"
   ]
  },
  {
   "cell_type": "code",
   "execution_count": 144,
   "id": "813b3591-b1b9-4978-8b44-682524fa15c1",
   "metadata": {},
   "outputs": [],
   "source": [
    "df['Target1'] = df['Target1'].map({'No': 0, 'Yes': 1})\n",
    "df['Target2'] = df['Target2'].map({'No': 0, 'Yes': 1})"
   ]
  },
  {
   "cell_type": "code",
   "execution_count": 145,
   "id": "5cf7c6ff-af8f-4688-b161-3041ea39abe1",
   "metadata": {},
   "outputs": [],
   "source": [
    "train, test = train_test_split(df, test_size=0.2, random_state=42)\n",
    "train, val = train_test_split(train, test_size=0.25, random_state=42)"
   ]
  },
  {
   "cell_type": "code",
   "execution_count": 146,
   "id": "969ac21a-d482-49bb-8770-75329f2eedc4",
   "metadata": {},
   "outputs": [],
   "source": [
    "train.to_parquet('train.parquet')\n",
    "test.to_parquet('test.parquet')\n",
    "val.to_parquet('val.parquet')"
   ]
  },
  {
   "cell_type": "code",
   "execution_count": 147,
   "id": "6a16d0e6-76d7-4578-b8df-cbc2c93ad5f9",
   "metadata": {},
   "outputs": [],
   "source": [
    "target1 = 'Target1'\n",
    "target2 = 'Target2'"
   ]
  },
  {
   "cell_type": "markdown",
   "id": "a307851b-c869-4075-8f73-075ee2190361",
   "metadata": {},
   "source": [
    "# TARGET - 1 "
   ]
  },
  {
   "cell_type": "code",
   "execution_count": 19,
   "id": "106b75f0-9ae0-4f44-b6c0-1704e66dd2a6",
   "metadata": {},
   "outputs": [
    {
     "data": {
      "text/html": [
       "<div>\n",
       "<style scoped>\n",
       "    .dataframe tbody tr th:only-of-type {\n",
       "        vertical-align: middle;\n",
       "    }\n",
       "\n",
       "    .dataframe tbody tr th {\n",
       "        vertical-align: top;\n",
       "    }\n",
       "\n",
       "    .dataframe thead th {\n",
       "        text-align: right;\n",
       "    }\n",
       "</style>\n",
       "<table border=\"1\" class=\"dataframe\">\n",
       "  <thead>\n",
       "    <tr style=\"text-align: right;\">\n",
       "      <th></th>\n",
       "      <th>Age</th>\n",
       "      <th>Ind_Household</th>\n",
       "      <th>Age_group</th>\n",
       "      <th>District</th>\n",
       "      <th>Region</th>\n",
       "      <th>Lifetime</th>\n",
       "      <th>Income</th>\n",
       "      <th>Segment</th>\n",
       "      <th>Ind_deposit</th>\n",
       "      <th>Ind_email</th>\n",
       "      <th>...</th>\n",
       "      <th>Ind_salary</th>\n",
       "      <th>trans_6_month</th>\n",
       "      <th>trans_9_month</th>\n",
       "      <th>trans_12_month</th>\n",
       "      <th>amont_trans</th>\n",
       "      <th>amont_day_from</th>\n",
       "      <th>trans_3_month</th>\n",
       "      <th>Gender</th>\n",
       "      <th>Target1</th>\n",
       "      <th>Target2</th>\n",
       "    </tr>\n",
       "  </thead>\n",
       "  <tbody>\n",
       "    <tr>\n",
       "      <th>963695</th>\n",
       "      <td>73.0</td>\n",
       "      <td>No</td>\n",
       "      <td>senior</td>\n",
       "      <td>09</td>\n",
       "      <td>North</td>\n",
       "      <td>4.0</td>\n",
       "      <td>53</td>\n",
       "      <td>Gold</td>\n",
       "      <td>Yes</td>\n",
       "      <td>Yes</td>\n",
       "      <td>...</td>\n",
       "      <td>No</td>\n",
       "      <td>2061.87</td>\n",
       "      <td>3024.89</td>\n",
       "      <td>4070.35</td>\n",
       "      <td>8</td>\n",
       "      <td>24</td>\n",
       "      <td>961.780000</td>\n",
       "      <td>M</td>\n",
       "      <td>Yes</td>\n",
       "      <td>Yes</td>\n",
       "    </tr>\n",
       "    <tr>\n",
       "      <th>759675</th>\n",
       "      <td>37.0</td>\n",
       "      <td>No</td>\n",
       "      <td>middle</td>\n",
       "      <td>52</td>\n",
       "      <td>South East</td>\n",
       "      <td>4.0</td>\n",
       "      <td>58</td>\n",
       "      <td>Silver</td>\n",
       "      <td>Yes</td>\n",
       "      <td>Yes</td>\n",
       "      <td>...</td>\n",
       "      <td>No</td>\n",
       "      <td>2017.37</td>\n",
       "      <td>3036.57</td>\n",
       "      <td>4202.14</td>\n",
       "      <td>4</td>\n",
       "      <td>28</td>\n",
       "      <td>935.174529</td>\n",
       "      <td>F</td>\n",
       "      <td>Yes</td>\n",
       "      <td>No</td>\n",
       "    </tr>\n",
       "    <tr>\n",
       "      <th>245217</th>\n",
       "      <td>NaN</td>\n",
       "      <td>No</td>\n",
       "      <td>unknown</td>\n",
       "      <td>03</td>\n",
       "      <td>South East</td>\n",
       "      <td>16.0</td>\n",
       "      <td>49</td>\n",
       "      <td>Silver</td>\n",
       "      <td>Yes</td>\n",
       "      <td>Yes</td>\n",
       "      <td>...</td>\n",
       "      <td>No</td>\n",
       "      <td>2044.67</td>\n",
       "      <td>3033.95</td>\n",
       "      <td>4152.95</td>\n",
       "      <td>9</td>\n",
       "      <td>15</td>\n",
       "      <td>991.400000</td>\n",
       "      <td>U</td>\n",
       "      <td>No</td>\n",
       "      <td>No</td>\n",
       "    </tr>\n",
       "    <tr>\n",
       "      <th>71316</th>\n",
       "      <td>51.0</td>\n",
       "      <td>No</td>\n",
       "      <td>middle</td>\n",
       "      <td>53</td>\n",
       "      <td>Midlands</td>\n",
       "      <td>5.0</td>\n",
       "      <td>55</td>\n",
       "      <td>Tin</td>\n",
       "      <td>Yes</td>\n",
       "      <td>Yes</td>\n",
       "      <td>...</td>\n",
       "      <td>No</td>\n",
       "      <td>2059.58</td>\n",
       "      <td>3053.52</td>\n",
       "      <td>4111.90</td>\n",
       "      <td>12</td>\n",
       "      <td>15</td>\n",
       "      <td>969.010000</td>\n",
       "      <td>F</td>\n",
       "      <td>No</td>\n",
       "      <td>No</td>\n",
       "    </tr>\n",
       "    <tr>\n",
       "      <th>256377</th>\n",
       "      <td>44.0</td>\n",
       "      <td>No</td>\n",
       "      <td>middle</td>\n",
       "      <td>03</td>\n",
       "      <td>South East</td>\n",
       "      <td>7.0</td>\n",
       "      <td>40</td>\n",
       "      <td>Gold</td>\n",
       "      <td>Yes</td>\n",
       "      <td>Yes</td>\n",
       "      <td>...</td>\n",
       "      <td>No</td>\n",
       "      <td>2051.88</td>\n",
       "      <td>3074.08</td>\n",
       "      <td>4110.98</td>\n",
       "      <td>4</td>\n",
       "      <td>16</td>\n",
       "      <td>927.500000</td>\n",
       "      <td>F</td>\n",
       "      <td>No</td>\n",
       "      <td>No</td>\n",
       "    </tr>\n",
       "    <tr>\n",
       "      <th>...</th>\n",
       "      <td>...</td>\n",
       "      <td>...</td>\n",
       "      <td>...</td>\n",
       "      <td>...</td>\n",
       "      <td>...</td>\n",
       "      <td>...</td>\n",
       "      <td>...</td>\n",
       "      <td>...</td>\n",
       "      <td>...</td>\n",
       "      <td>...</td>\n",
       "      <td>...</td>\n",
       "      <td>...</td>\n",
       "      <td>...</td>\n",
       "      <td>...</td>\n",
       "      <td>...</td>\n",
       "      <td>...</td>\n",
       "      <td>...</td>\n",
       "      <td>...</td>\n",
       "      <td>...</td>\n",
       "      <td>...</td>\n",
       "      <td>...</td>\n",
       "    </tr>\n",
       "    <tr>\n",
       "      <th>906602</th>\n",
       "      <td>52.0</td>\n",
       "      <td>Yes</td>\n",
       "      <td>middle</td>\n",
       "      <td>49</td>\n",
       "      <td>Midlands</td>\n",
       "      <td>8.0</td>\n",
       "      <td>55</td>\n",
       "      <td>Gold</td>\n",
       "      <td>No</td>\n",
       "      <td>Yes</td>\n",
       "      <td>...</td>\n",
       "      <td>No</td>\n",
       "      <td>2061.03</td>\n",
       "      <td>3102.71</td>\n",
       "      <td>4146.20</td>\n",
       "      <td>8</td>\n",
       "      <td>14</td>\n",
       "      <td>960.200000</td>\n",
       "      <td>M</td>\n",
       "      <td>No</td>\n",
       "      <td>No</td>\n",
       "    </tr>\n",
       "    <tr>\n",
       "      <th>829155</th>\n",
       "      <td>62.0</td>\n",
       "      <td>No</td>\n",
       "      <td>senior</td>\n",
       "      <td>32</td>\n",
       "      <td>Unknown</td>\n",
       "      <td>2.0</td>\n",
       "      <td>46</td>\n",
       "      <td>Gold</td>\n",
       "      <td>Yes</td>\n",
       "      <td>Yes</td>\n",
       "      <td>...</td>\n",
       "      <td>No</td>\n",
       "      <td>2119.59</td>\n",
       "      <td>3161.31</td>\n",
       "      <td>4249.55</td>\n",
       "      <td>3</td>\n",
       "      <td>13</td>\n",
       "      <td>984.400000</td>\n",
       "      <td>F</td>\n",
       "      <td>No</td>\n",
       "      <td>No</td>\n",
       "    </tr>\n",
       "    <tr>\n",
       "      <th>459940</th>\n",
       "      <td>69.0</td>\n",
       "      <td>No</td>\n",
       "      <td>senior</td>\n",
       "      <td>42</td>\n",
       "      <td>South East</td>\n",
       "      <td>8.0</td>\n",
       "      <td>44</td>\n",
       "      <td>Platinum</td>\n",
       "      <td>Yes</td>\n",
       "      <td>Yes</td>\n",
       "      <td>...</td>\n",
       "      <td>No</td>\n",
       "      <td>2085.08</td>\n",
       "      <td>3056.76</td>\n",
       "      <td>4136.43</td>\n",
       "      <td>5</td>\n",
       "      <td>14</td>\n",
       "      <td>974.060000</td>\n",
       "      <td>M</td>\n",
       "      <td>No</td>\n",
       "      <td>No</td>\n",
       "    </tr>\n",
       "    <tr>\n",
       "      <th>296417</th>\n",
       "      <td>76.0</td>\n",
       "      <td>No</td>\n",
       "      <td>senior</td>\n",
       "      <td>50</td>\n",
       "      <td>Unknown</td>\n",
       "      <td>8.0</td>\n",
       "      <td>50</td>\n",
       "      <td>Gold</td>\n",
       "      <td>Yes</td>\n",
       "      <td>Yes</td>\n",
       "      <td>...</td>\n",
       "      <td>No</td>\n",
       "      <td>2108.51</td>\n",
       "      <td>3099.34</td>\n",
       "      <td>4145.69</td>\n",
       "      <td>7</td>\n",
       "      <td>14</td>\n",
       "      <td>929.980000</td>\n",
       "      <td>M</td>\n",
       "      <td>No</td>\n",
       "      <td>No</td>\n",
       "    </tr>\n",
       "    <tr>\n",
       "      <th>636609</th>\n",
       "      <td>69.0</td>\n",
       "      <td>No</td>\n",
       "      <td>senior</td>\n",
       "      <td>02</td>\n",
       "      <td>South West</td>\n",
       "      <td>9.0</td>\n",
       "      <td>37</td>\n",
       "      <td>Tin</td>\n",
       "      <td>Yes</td>\n",
       "      <td>Yes</td>\n",
       "      <td>...</td>\n",
       "      <td>No</td>\n",
       "      <td>2142.26</td>\n",
       "      <td>3157.99</td>\n",
       "      <td>4302.52</td>\n",
       "      <td>6</td>\n",
       "      <td>15</td>\n",
       "      <td>951.860000</td>\n",
       "      <td>U</td>\n",
       "      <td>No</td>\n",
       "      <td>No</td>\n",
       "    </tr>\n",
       "  </tbody>\n",
       "</table>\n",
       "<p>591285 rows × 21 columns</p>\n",
       "</div>"
      ],
      "text/plain": [
       "         Age Ind_Household Age_group District      Region  Lifetime  Income  \\\n",
       "963695  73.0            No    senior       09       North       4.0      53   \n",
       "759675  37.0            No    middle       52  South East       4.0      58   \n",
       "245217   NaN            No   unknown       03  South East      16.0      49   \n",
       "71316   51.0            No    middle       53    Midlands       5.0      55   \n",
       "256377  44.0            No    middle       03  South East       7.0      40   \n",
       "...      ...           ...       ...      ...         ...       ...     ...   \n",
       "906602  52.0           Yes    middle       49    Midlands       8.0      55   \n",
       "829155  62.0            No    senior       32     Unknown       2.0      46   \n",
       "459940  69.0            No    senior       42  South East       8.0      44   \n",
       "296417  76.0            No    senior       50     Unknown       8.0      50   \n",
       "636609  69.0            No    senior       02  South West       9.0      37   \n",
       "\n",
       "         Segment Ind_deposit Ind_email  ... Ind_salary trans_6_month  \\\n",
       "963695      Gold         Yes       Yes  ...         No       2061.87   \n",
       "759675    Silver         Yes       Yes  ...         No       2017.37   \n",
       "245217    Silver         Yes       Yes  ...         No       2044.67   \n",
       "71316        Tin         Yes       Yes  ...         No       2059.58   \n",
       "256377      Gold         Yes       Yes  ...         No       2051.88   \n",
       "...          ...         ...       ...  ...        ...           ...   \n",
       "906602      Gold          No       Yes  ...         No       2061.03   \n",
       "829155      Gold         Yes       Yes  ...         No       2119.59   \n",
       "459940  Platinum         Yes       Yes  ...         No       2085.08   \n",
       "296417      Gold         Yes       Yes  ...         No       2108.51   \n",
       "636609       Tin         Yes       Yes  ...         No       2142.26   \n",
       "\n",
       "        trans_9_month  trans_12_month  amont_trans  amont_day_from  \\\n",
       "963695        3024.89         4070.35            8              24   \n",
       "759675        3036.57         4202.14            4              28   \n",
       "245217        3033.95         4152.95            9              15   \n",
       "71316         3053.52         4111.90           12              15   \n",
       "256377        3074.08         4110.98            4              16   \n",
       "...               ...             ...          ...             ...   \n",
       "906602        3102.71         4146.20            8              14   \n",
       "829155        3161.31         4249.55            3              13   \n",
       "459940        3056.76         4136.43            5              14   \n",
       "296417        3099.34         4145.69            7              14   \n",
       "636609        3157.99         4302.52            6              15   \n",
       "\n",
       "        trans_3_month  Gender Target1 Target2  \n",
       "963695     961.780000       M     Yes     Yes  \n",
       "759675     935.174529       F     Yes      No  \n",
       "245217     991.400000       U      No      No  \n",
       "71316      969.010000       F      No      No  \n",
       "256377     927.500000       F      No      No  \n",
       "...               ...     ...     ...     ...  \n",
       "906602     960.200000       M      No      No  \n",
       "829155     984.400000       F      No      No  \n",
       "459940     974.060000       M      No      No  \n",
       "296417     929.980000       M      No      No  \n",
       "636609     951.860000       U      No      No  \n",
       "\n",
       "[591285 rows x 21 columns]"
      ]
     },
     "execution_count": 19,
     "metadata": {},
     "output_type": "execute_result"
    }
   ],
   "source": [
    "train"
   ]
  },
  {
   "cell_type": "code",
   "execution_count": 24,
   "id": "f0dfe7de-86d1-41b6-a63a-450e12fc5bac",
   "metadata": {},
   "outputs": [],
   "source": [
    "cat_features = train.select_dtypes(include=['object', 'category']).columns.tolist()"
   ]
  },
  {
   "cell_type": "code",
   "execution_count": 26,
   "id": "866cedeb-03f1-4284-acf2-d53bb60266cc",
   "metadata": {},
   "outputs": [],
   "source": [
    "cat_features = ['Ind_Household',\n",
    " 'Age_group',\n",
    " 'District',\n",
    " 'Region',\n",
    " 'Segment',\n",
    " 'Ind_deposit',\n",
    " 'Ind_email',\n",
    " 'Ind_phone',\n",
    " 'Ind_salary',\n",
    " 'Gender']"
   ]
  },
  {
   "cell_type": "code",
   "execution_count": 27,
   "id": "2d56f01c-b8f6-4893-8250-781702a5a0ac",
   "metadata": {},
   "outputs": [
    {
     "name": "stdout",
     "output_type": "stream",
     "text": [
      "0:\tlearn: 0.5969396\ttest: 0.5967728\tbest: 0.5967728 (0)\ttotal: 202ms\tremaining: 3m 21s\n",
      "100:\tlearn: 0.2571153\ttest: 0.2567444\tbest: 0.2567444 (100)\ttotal: 8.96s\tremaining: 1m 19s\n",
      "200:\tlearn: 0.2420793\ttest: 0.2408332\tbest: 0.2408332 (200)\ttotal: 17.9s\tremaining: 1m 11s\n",
      "300:\tlearn: 0.2349339\ttest: 0.2331806\tbest: 0.2331806 (300)\ttotal: 25.7s\tremaining: 59.7s\n",
      "400:\tlearn: 0.2300095\ttest: 0.2280437\tbest: 0.2280437 (400)\ttotal: 33.9s\tremaining: 50.6s\n",
      "500:\tlearn: 0.2265526\ttest: 0.2244983\tbest: 0.2244983 (500)\ttotal: 42.1s\tremaining: 42s\n",
      "600:\tlearn: 0.2236009\ttest: 0.2214960\tbest: 0.2214960 (600)\ttotal: 50.4s\tremaining: 33.4s\n",
      "700:\tlearn: 0.2212104\ttest: 0.2190018\tbest: 0.2190018 (700)\ttotal: 58.8s\tremaining: 25.1s\n",
      "800:\tlearn: 0.2191567\ttest: 0.2168454\tbest: 0.2168454 (800)\ttotal: 1m 7s\tremaining: 16.7s\n",
      "900:\tlearn: 0.2173810\ttest: 0.2150490\tbest: 0.2150490 (900)\ttotal: 1m 15s\tremaining: 8.32s\n",
      "999:\tlearn: 0.2155612\ttest: 0.2131034\tbest: 0.2131034 (999)\ttotal: 1m 24s\tremaining: 0us\n",
      "\n",
      "bestTest = 0.2131034129\n",
      "bestIteration = 999\n",
      "\n"
     ]
    },
    {
     "data": {
      "text/plain": [
       "<catboost.core.CatBoostClassifier at 0x2cf77dd90>"
      ]
     },
     "execution_count": 27,
     "metadata": {},
     "output_type": "execute_result"
    }
   ],
   "source": [
    "model = CatBoostClassifier(iterations=1000, learning_rate=0.1, depth=3, random_seed=42)\n",
    "model.fit(train.drop(columns=[target1, target2]), train[target1], cat_features=cat_features, eval_set = (val.drop(columns=[target1, target2]), val[target1]), verbose=100)"
   ]
  },
  {
   "cell_type": "code",
   "execution_count": 28,
   "id": "4700bd6a-e6f5-475a-838f-73369b1bd60c",
   "metadata": {},
   "outputs": [
    {
     "name": "stdout",
     "output_type": "stream",
     "text": [
      "TRAIN : 0.9543547468456586\n",
      "VAL : 0.9538066101321312\n",
      "TEST : 0.9540036842288422\n"
     ]
    }
   ],
   "source": [
    "print(f\"TRAIN : {roc_auc_score(train[target1], model.predict_proba(train.drop(columns=[target1, target2]))[:, 1])}\")\n",
    "print(f\"VAL : {roc_auc_score(val[target1], model.predict_proba(val.drop(columns=[target1, target2]))[:, 1])}\")\n",
    "print(f\"TEST : {roc_auc_score(test[target1], model.predict_proba(test.drop(columns=[target1, target2]))[:, 1])}\")"
   ]
  },
  {
   "cell_type": "code",
   "execution_count": 36,
   "id": "119060dd-552b-4240-b318-7e8e840ea6a9",
   "metadata": {},
   "outputs": [
    {
     "name": "stdout",
     "output_type": "stream",
     "text": [
      "              precision    recall  f1-score   support\n",
      "\n",
      "          No       0.92      0.97      0.94    148281\n",
      "         Yes       0.90      0.74      0.81     48815\n",
      "\n",
      "    accuracy                           0.91    197096\n",
      "   macro avg       0.91      0.86      0.88    197096\n",
      "weighted avg       0.91      0.91      0.91    197096\n",
      "\n"
     ]
    }
   ],
   "source": [
    "print(classification_report(test[target1], model.predict(test.drop(columns=[target1, target2]))))"
   ]
  },
  {
   "cell_type": "code",
   "execution_count": 37,
   "id": "91858cab-394e-463b-8490-2bf4400a2536",
   "metadata": {},
   "outputs": [],
   "source": [
    "res = permutation_importance(model, train.drop(columns=[target1, target2]), train[target1], n_repeats=10, random_state=42)"
   ]
  },
  {
   "cell_type": "code",
   "execution_count": 38,
   "id": "d8d02cc8-b1bc-450b-bc6f-8a92174fca7e",
   "metadata": {},
   "outputs": [],
   "source": [
    "new_features = [list(train.drop(columns=[target1, target2]).columns)[i] for i in res['importances_mean'].argsort()[::1] if res['importances_mean'][i] - 2*res['importances_std'][i] > 0]\n",
    "\n"
   ]
  },
  {
   "cell_type": "code",
   "execution_count": 39,
   "id": "d531ace4-4483-4a90-92d3-4d933620de12",
   "metadata": {},
   "outputs": [
    {
     "data": {
      "text/plain": [
       "15"
      ]
     },
     "execution_count": 39,
     "metadata": {},
     "output_type": "execute_result"
    }
   ],
   "source": [
    "len(new_features)"
   ]
  },
  {
   "cell_type": "code",
   "execution_count": 40,
   "id": "9e7e0173-4f9e-4411-83bd-fd3bc6f1298c",
   "metadata": {},
   "outputs": [
    {
     "data": {
      "text/plain": [
       "['trans_12_month',\n",
       " 'trans_9_month',\n",
       " 'Ind_phone',\n",
       " 'Ind_email',\n",
       " 'trans_6_month',\n",
       " 'Age_group',\n",
       " 'Segment',\n",
       " 'Lifetime',\n",
       " 'Region',\n",
       " 'Gender',\n",
       " 'Income',\n",
       " 'District',\n",
       " 'Age',\n",
       " 'trans_3_month',\n",
       " 'amont_day_from']"
      ]
     },
     "execution_count": 40,
     "metadata": {},
     "output_type": "execute_result"
    }
   ],
   "source": [
    "new_features"
   ]
  },
  {
   "cell_type": "code",
   "execution_count": 42,
   "id": "d9113b7e-3978-4f6b-9e22-5ac30d282303",
   "metadata": {},
   "outputs": [
    {
     "name": "stdout",
     "output_type": "stream",
     "text": [
      "<class 'pandas.core.frame.DataFrame'>\n",
      "Index: 591285 entries, 963695 to 636609\n",
      "Data columns (total 21 columns):\n",
      " #   Column          Non-Null Count   Dtype  \n",
      "---  ------          --------------   -----  \n",
      " 0   Age             551055 non-null  float64\n",
      " 1   Ind_Household   591285 non-null  object \n",
      " 2   Age_group       591285 non-null  object \n",
      " 3   District        591285 non-null  object \n",
      " 4   Region          591285 non-null  object \n",
      " 5   Lifetime        583726 non-null  float64\n",
      " 6   Income          591285 non-null  int64  \n",
      " 7   Segment         591285 non-null  object \n",
      " 8   Ind_deposit     591285 non-null  object \n",
      " 9   Ind_email       591285 non-null  object \n",
      " 10  Ind_phone       591285 non-null  object \n",
      " 11  Ind_salary      591285 non-null  object \n",
      " 12  trans_6_month   591285 non-null  float64\n",
      " 13  trans_9_month   591285 non-null  float64\n",
      " 14  trans_12_month  591285 non-null  float64\n",
      " 15  amont_trans     591285 non-null  int64  \n",
      " 16  amont_day_from  591285 non-null  int64  \n",
      " 17  trans_3_month   591285 non-null  float64\n",
      " 18  Gender          591285 non-null  object \n",
      " 19  Target1         591285 non-null  object \n",
      " 20  Target2         591285 non-null  object \n",
      "dtypes: float64(6), int64(3), object(12)\n",
      "memory usage: 99.2+ MB\n"
     ]
    }
   ],
   "source": [
    "train.info()"
   ]
  },
  {
   "cell_type": "code",
   "execution_count": 149,
   "id": "45acc2ba-3999-44e5-a6c7-18b7870768ab",
   "metadata": {},
   "outputs": [],
   "source": [
    "train = train.drop(columns=['Ind_Household', 'Ind_deposit', 'Ind_salary', 'amont_trans'])\n",
    "val = val.drop(columns=['Ind_Household', 'Ind_deposit', 'Ind_salary', 'amont_trans'])\n",
    "test = test.drop(columns=['Ind_Household', 'Ind_deposit', 'Ind_salary', 'amont_trans'])"
   ]
  },
  {
   "cell_type": "code",
   "execution_count": 101,
   "id": "6feb71bc-e69e-4b71-866f-fea1b4815c7d",
   "metadata": {},
   "outputs": [],
   "source": [
    "cat_features = train.select_dtypes(include=['object', 'category']).columns.tolist()"
   ]
  },
  {
   "cell_type": "code",
   "execution_count": 102,
   "id": "08a536eb-2c10-4273-b5ca-ce459c33e644",
   "metadata": {},
   "outputs": [],
   "source": [
    "cat_features = ['Age_group',\n",
    " 'District',\n",
    " 'Region',\n",
    " 'Segment',\n",
    " 'Ind_email',\n",
    " 'Ind_phone',\n",
    " 'Gender']"
   ]
  },
  {
   "cell_type": "code",
   "execution_count": 103,
   "id": "566f57ee-4c34-44c8-82e6-888fc8412f2c",
   "metadata": {},
   "outputs": [
    {
     "name": "stdout",
     "output_type": "stream",
     "text": [
      "0:\tlearn: 0.5969396\ttest: 0.5967728\tbest: 0.5967728 (0)\ttotal: 116ms\tremaining: 1m 56s\n",
      "100:\tlearn: 0.2538476\ttest: 0.2532588\tbest: 0.2532588 (100)\ttotal: 8.38s\tremaining: 1m 14s\n",
      "200:\tlearn: 0.2400509\ttest: 0.2385511\tbest: 0.2385511 (200)\ttotal: 16.3s\tremaining: 1m 4s\n",
      "300:\tlearn: 0.2336609\ttest: 0.2318709\tbest: 0.2318709 (300)\ttotal: 24.4s\tremaining: 56.6s\n",
      "400:\tlearn: 0.2290875\ttest: 0.2272127\tbest: 0.2272127 (400)\ttotal: 32.4s\tremaining: 48.4s\n",
      "500:\tlearn: 0.2256301\ttest: 0.2236177\tbest: 0.2236177 (500)\ttotal: 40.7s\tremaining: 40.5s\n",
      "600:\tlearn: 0.2229083\ttest: 0.2207998\tbest: 0.2207998 (600)\ttotal: 49s\tremaining: 32.6s\n",
      "700:\tlearn: 0.2205255\ttest: 0.2181993\tbest: 0.2181993 (700)\ttotal: 57.2s\tremaining: 24.4s\n",
      "800:\tlearn: 0.2182642\ttest: 0.2159186\tbest: 0.2159186 (800)\ttotal: 1m 5s\tremaining: 16.3s\n",
      "900:\tlearn: 0.2166872\ttest: 0.2143184\tbest: 0.2143163 (899)\ttotal: 1m 13s\tremaining: 8.09s\n",
      "999:\tlearn: 0.2153341\ttest: 0.2129883\tbest: 0.2129883 (999)\ttotal: 1m 22s\tremaining: 0us\n",
      "\n",
      "bestTest = 0.212988293\n",
      "bestIteration = 999\n",
      "\n"
     ]
    },
    {
     "data": {
      "text/plain": [
       "<catboost.core.CatBoostClassifier at 0x2d4d2c1c0>"
      ]
     },
     "execution_count": 103,
     "metadata": {},
     "output_type": "execute_result"
    }
   ],
   "source": [
    "model = CatBoostClassifier(iterations=1000, learning_rate=0.1, depth=3, random_seed=42)\n",
    "model.fit(train.drop(columns=[target1, target2]), train[target1], cat_features=cat_features, eval_set = (val.drop(columns=[target1, target2]), val[target1]), verbose=100)"
   ]
  },
  {
   "cell_type": "code",
   "execution_count": 104,
   "id": "1d572895-24c3-45ff-83f5-8a3c9b50101f",
   "metadata": {},
   "outputs": [
    {
     "name": "stdout",
     "output_type": "stream",
     "text": [
      "TRAIN : 0.9545512903245816\n",
      "VAL : 0.9539043046445885\n",
      "TEST : 0.9541896285966176\n"
     ]
    }
   ],
   "source": [
    "print(f\"TRAIN : {roc_auc_score(train[target1], model.predict_proba(train.drop(columns=[target1, target2]))[:, 1])}\")\n",
    "print(f\"VAL : {roc_auc_score(val[target1], model.predict_proba(val.drop(columns=[target1, target2]))[:, 1])}\")\n",
    "print(f\"TEST : {roc_auc_score(test[target1], model.predict_proba(test.drop(columns=[target1, target2]))[:, 1])}\")"
   ]
  },
  {
   "cell_type": "code",
   "execution_count": 105,
   "id": "60ad6262-e2f6-4e12-a1a8-09f9822adaa4",
   "metadata": {},
   "outputs": [
    {
     "name": "stdout",
     "output_type": "stream",
     "text": [
      "              precision    recall  f1-score   support\n",
      "\n",
      "          No       0.92      0.97      0.95    148281\n",
      "         Yes       0.90      0.74      0.81     48815\n",
      "\n",
      "    accuracy                           0.91    197096\n",
      "   macro avg       0.91      0.86      0.88    197096\n",
      "weighted avg       0.91      0.91      0.91    197096\n",
      "\n"
     ]
    }
   ],
   "source": [
    "print(classification_report(test[target1], model.predict(test.drop(columns=[target1, target2]))))"
   ]
  },
  {
   "cell_type": "code",
   "execution_count": 106,
   "id": "5ada2aae-d939-49ba-acb0-03279b3aeb5a",
   "metadata": {},
   "outputs": [],
   "source": [
    "importances = model.get_feature_importance(prettified=True)"
   ]
  },
  {
   "cell_type": "code",
   "execution_count": 107,
   "id": "654a1ab1-afb5-47fd-ba93-f5d657fb86f4",
   "metadata": {},
   "outputs": [
    {
     "data": {
      "text/html": [
       "<div>\n",
       "<style scoped>\n",
       "    .dataframe tbody tr th:only-of-type {\n",
       "        vertical-align: middle;\n",
       "    }\n",
       "\n",
       "    .dataframe tbody tr th {\n",
       "        vertical-align: top;\n",
       "    }\n",
       "\n",
       "    .dataframe thead th {\n",
       "        text-align: right;\n",
       "    }\n",
       "</style>\n",
       "<table border=\"1\" class=\"dataframe\">\n",
       "  <thead>\n",
       "    <tr style=\"text-align: right;\">\n",
       "      <th></th>\n",
       "      <th>Feature Id</th>\n",
       "      <th>Importances</th>\n",
       "    </tr>\n",
       "  </thead>\n",
       "  <tbody>\n",
       "    <tr>\n",
       "      <th>0</th>\n",
       "      <td>amont_day_from</td>\n",
       "      <td>39.837321</td>\n",
       "    </tr>\n",
       "    <tr>\n",
       "      <th>1</th>\n",
       "      <td>trans_3_month</td>\n",
       "      <td>24.326062</td>\n",
       "    </tr>\n",
       "    <tr>\n",
       "      <th>2</th>\n",
       "      <td>Income</td>\n",
       "      <td>12.331495</td>\n",
       "    </tr>\n",
       "    <tr>\n",
       "      <th>3</th>\n",
       "      <td>Age</td>\n",
       "      <td>6.958667</td>\n",
       "    </tr>\n",
       "    <tr>\n",
       "      <th>4</th>\n",
       "      <td>Gender</td>\n",
       "      <td>4.103574</td>\n",
       "    </tr>\n",
       "    <tr>\n",
       "      <th>5</th>\n",
       "      <td>Lifetime</td>\n",
       "      <td>3.707424</td>\n",
       "    </tr>\n",
       "    <tr>\n",
       "      <th>6</th>\n",
       "      <td>District</td>\n",
       "      <td>3.115106</td>\n",
       "    </tr>\n",
       "    <tr>\n",
       "      <th>7</th>\n",
       "      <td>Region</td>\n",
       "      <td>1.683745</td>\n",
       "    </tr>\n",
       "    <tr>\n",
       "      <th>8</th>\n",
       "      <td>Segment</td>\n",
       "      <td>1.440515</td>\n",
       "    </tr>\n",
       "    <tr>\n",
       "      <th>9</th>\n",
       "      <td>trans_6_month</td>\n",
       "      <td>1.171520</td>\n",
       "    </tr>\n",
       "    <tr>\n",
       "      <th>10</th>\n",
       "      <td>Age_group</td>\n",
       "      <td>1.158792</td>\n",
       "    </tr>\n",
       "    <tr>\n",
       "      <th>11</th>\n",
       "      <td>Ind_phone</td>\n",
       "      <td>0.091166</td>\n",
       "    </tr>\n",
       "    <tr>\n",
       "      <th>12</th>\n",
       "      <td>Ind_email</td>\n",
       "      <td>0.054347</td>\n",
       "    </tr>\n",
       "    <tr>\n",
       "      <th>13</th>\n",
       "      <td>trans_9_month</td>\n",
       "      <td>0.011954</td>\n",
       "    </tr>\n",
       "    <tr>\n",
       "      <th>14</th>\n",
       "      <td>trans_12_month</td>\n",
       "      <td>0.008310</td>\n",
       "    </tr>\n",
       "  </tbody>\n",
       "</table>\n",
       "</div>"
      ],
      "text/plain": [
       "        Feature Id  Importances\n",
       "0   amont_day_from    39.837321\n",
       "1    trans_3_month    24.326062\n",
       "2           Income    12.331495\n",
       "3              Age     6.958667\n",
       "4           Gender     4.103574\n",
       "5         Lifetime     3.707424\n",
       "6         District     3.115106\n",
       "7           Region     1.683745\n",
       "8          Segment     1.440515\n",
       "9    trans_6_month     1.171520\n",
       "10       Age_group     1.158792\n",
       "11       Ind_phone     0.091166\n",
       "12       Ind_email     0.054347\n",
       "13   trans_9_month     0.011954\n",
       "14  trans_12_month     0.008310"
      ]
     },
     "execution_count": 107,
     "metadata": {},
     "output_type": "execute_result"
    }
   ],
   "source": [
    "importances"
   ]
  },
  {
   "cell_type": "code",
   "execution_count": 108,
   "id": "279cd1d9-54a0-4897-b346-38b1052dc476",
   "metadata": {},
   "outputs": [],
   "source": [
    "a = importances.loc[importances['Importances'] >= 1, 'Feature Id'].tolist()"
   ]
  },
  {
   "cell_type": "code",
   "execution_count": 109,
   "id": "e807ced8-1c04-4ca4-bcd6-b17aa665c6f7",
   "metadata": {},
   "outputs": [
    {
     "data": {
      "text/plain": [
       "['amont_day_from',\n",
       " 'trans_3_month',\n",
       " 'Income',\n",
       " 'Age',\n",
       " 'Gender',\n",
       " 'Lifetime',\n",
       " 'District',\n",
       " 'Region',\n",
       " 'Segment',\n",
       " 'trans_6_month',\n",
       " 'Age_group']"
      ]
     },
     "execution_count": 109,
     "metadata": {},
     "output_type": "execute_result"
    }
   ],
   "source": [
    "a"
   ]
  },
  {
   "cell_type": "code",
   "execution_count": 150,
   "id": "192c887d-d14e-4739-bda0-26d7834bc6a5",
   "metadata": {},
   "outputs": [],
   "source": [
    "train = train.drop(columns=['Ind_phone', 'Ind_email', 'trans_9_month', 'trans_12_month'])\n",
    "val = val.drop(columns=['Ind_phone', 'Ind_email', 'trans_9_month', 'trans_12_month'])\n",
    "test = test.drop(columns=['Ind_phone', 'Ind_email', 'trans_9_month', 'trans_12_month'])"
   ]
  },
  {
   "cell_type": "code",
   "execution_count": 156,
   "id": "fc1a2180-8386-4ef4-850a-52387fcec528",
   "metadata": {},
   "outputs": [
    {
     "data": {
      "text/plain": [
       "['Age_group', 'District', 'Region', 'Segment', 'Gender']"
      ]
     },
     "execution_count": 156,
     "metadata": {},
     "output_type": "execute_result"
    }
   ],
   "source": [
    "cat_features = train.select_dtypes(include=['object', 'category']).columns.tolist()\n",
    "cat_features"
   ]
  },
  {
   "cell_type": "code",
   "execution_count": 157,
   "id": "5463170a-3086-4a1c-83bc-f540e8b2934b",
   "metadata": {},
   "outputs": [],
   "source": [
    "cat_features = ['Age_group', 'District', 'Region', 'Segment', 'Gender']"
   ]
  },
  {
   "cell_type": "code",
   "execution_count": 158,
   "id": "4c7e646d-09ce-49fe-a6fa-b47cde9169af",
   "metadata": {},
   "outputs": [
    {
     "name": "stdout",
     "output_type": "stream",
     "text": [
      "0:\tlearn: 0.5969396\ttest: 0.5967728\tbest: 0.5967728 (0)\ttotal: 119ms\tremaining: 1m 58s\n",
      "100:\tlearn: 0.2550993\ttest: 0.2546043\tbest: 0.2546043 (100)\ttotal: 8.27s\tremaining: 1m 13s\n",
      "200:\tlearn: 0.2398565\ttest: 0.2383261\tbest: 0.2383261 (200)\ttotal: 16.5s\tremaining: 1m 5s\n",
      "300:\tlearn: 0.2336206\ttest: 0.2317955\tbest: 0.2317955 (300)\ttotal: 24.7s\tremaining: 57.3s\n",
      "400:\tlearn: 0.2295286\ttest: 0.2276711\tbest: 0.2276711 (400)\ttotal: 32.8s\tremaining: 49.1s\n",
      "500:\tlearn: 0.2255351\ttest: 0.2235007\tbest: 0.2235007 (500)\ttotal: 41.6s\tremaining: 41.5s\n",
      "600:\tlearn: 0.2226271\ttest: 0.2205011\tbest: 0.2205011 (600)\ttotal: 50.4s\tremaining: 33.5s\n",
      "700:\tlearn: 0.2202213\ttest: 0.2179595\tbest: 0.2179595 (700)\ttotal: 59.3s\tremaining: 25.3s\n",
      "800:\tlearn: 0.2184271\ttest: 0.2160876\tbest: 0.2160876 (800)\ttotal: 1m 8s\tremaining: 16.9s\n",
      "900:\tlearn: 0.2165261\ttest: 0.2140975\tbest: 0.2140975 (900)\ttotal: 1m 16s\tremaining: 8.42s\n",
      "999:\tlearn: 0.2152565\ttest: 0.2127946\tbest: 0.2127946 (999)\ttotal: 1m 26s\tremaining: 0us\n",
      "\n",
      "bestTest = 0.2127946455\n",
      "bestIteration = 999\n",
      "\n"
     ]
    },
    {
     "data": {
      "text/plain": [
       "<catboost.core.CatBoostClassifier at 0x29d860f40>"
      ]
     },
     "execution_count": 158,
     "metadata": {},
     "output_type": "execute_result"
    }
   ],
   "source": [
    "model = CatBoostClassifier(iterations=1000, learning_rate=0.1, depth=3, random_seed=42)\n",
    "model.fit(train.drop(columns=[target1, target2]), train[target1], cat_features=cat_features, eval_set = (val.drop(columns=[target1, target2]), val[target1]), verbose=100)"
   ]
  },
  {
   "cell_type": "code",
   "execution_count": 159,
   "id": "564d1b12-4594-4017-9027-c3a8845eb9b1",
   "metadata": {},
   "outputs": [
    {
     "name": "stdout",
     "output_type": "stream",
     "text": [
      "TRAIN : 0.9546553611639266\n",
      "VAL : 0.9540271218292133\n",
      "TEST : 0.9542768927014377\n"
     ]
    }
   ],
   "source": [
    "print(f\"TRAIN : {roc_auc_score(train[target1], model.predict_proba(train.drop(columns=[target1, target2]))[:, 1])}\")\n",
    "print(f\"VAL : {roc_auc_score(val[target1], model.predict_proba(val.drop(columns=[target1, target2]))[:, 1])}\")\n",
    "print(f\"TEST : {roc_auc_score(test[target1], model.predict_proba(test.drop(columns=[target1, target2]))[:, 1])}\")"
   ]
  },
  {
   "cell_type": "code",
   "execution_count": 160,
   "id": "ad0b91e3-4b57-4226-a24c-65f66d5b3db8",
   "metadata": {},
   "outputs": [
    {
     "name": "stdout",
     "output_type": "stream",
     "text": [
      "              precision    recall  f1-score   support\n",
      "\n",
      "           0       0.92      0.97      0.95    148281\n",
      "           1       0.90      0.74      0.81     48815\n",
      "\n",
      "    accuracy                           0.91    197096\n",
      "   macro avg       0.91      0.86      0.88    197096\n",
      "weighted avg       0.91      0.91      0.91    197096\n",
      "\n"
     ]
    }
   ],
   "source": [
    "print(classification_report(test[target1], model.predict(test.drop(columns=[target1, target2]))))"
   ]
  },
  {
   "cell_type": "code",
   "execution_count": 161,
   "id": "606f3922-3c12-4062-9147-65fc2fe9fc12",
   "metadata": {},
   "outputs": [],
   "source": [
    "importances = model.get_feature_importance(prettified=True)"
   ]
  },
  {
   "cell_type": "code",
   "execution_count": 162,
   "id": "460b2471-4960-4ff3-a5d4-73636403c787",
   "metadata": {},
   "outputs": [
    {
     "data": {
      "text/html": [
       "<div>\n",
       "<style scoped>\n",
       "    .dataframe tbody tr th:only-of-type {\n",
       "        vertical-align: middle;\n",
       "    }\n",
       "\n",
       "    .dataframe tbody tr th {\n",
       "        vertical-align: top;\n",
       "    }\n",
       "\n",
       "    .dataframe thead th {\n",
       "        text-align: right;\n",
       "    }\n",
       "</style>\n",
       "<table border=\"1\" class=\"dataframe\">\n",
       "  <thead>\n",
       "    <tr style=\"text-align: right;\">\n",
       "      <th></th>\n",
       "      <th>Feature Id</th>\n",
       "      <th>Importances</th>\n",
       "    </tr>\n",
       "  </thead>\n",
       "  <tbody>\n",
       "    <tr>\n",
       "      <th>0</th>\n",
       "      <td>amont_day_from</td>\n",
       "      <td>40.099140</td>\n",
       "    </tr>\n",
       "    <tr>\n",
       "      <th>1</th>\n",
       "      <td>trans_3_month</td>\n",
       "      <td>25.303641</td>\n",
       "    </tr>\n",
       "    <tr>\n",
       "      <th>2</th>\n",
       "      <td>Income</td>\n",
       "      <td>13.246696</td>\n",
       "    </tr>\n",
       "    <tr>\n",
       "      <th>3</th>\n",
       "      <td>Age</td>\n",
       "      <td>6.185055</td>\n",
       "    </tr>\n",
       "    <tr>\n",
       "      <th>4</th>\n",
       "      <td>Gender</td>\n",
       "      <td>3.688345</td>\n",
       "    </tr>\n",
       "    <tr>\n",
       "      <th>5</th>\n",
       "      <td>Lifetime</td>\n",
       "      <td>3.362178</td>\n",
       "    </tr>\n",
       "    <tr>\n",
       "      <th>6</th>\n",
       "      <td>District</td>\n",
       "      <td>2.996136</td>\n",
       "    </tr>\n",
       "    <tr>\n",
       "      <th>7</th>\n",
       "      <td>Region</td>\n",
       "      <td>1.657659</td>\n",
       "    </tr>\n",
       "    <tr>\n",
       "      <th>8</th>\n",
       "      <td>Segment</td>\n",
       "      <td>1.317864</td>\n",
       "    </tr>\n",
       "    <tr>\n",
       "      <th>9</th>\n",
       "      <td>Age_group</td>\n",
       "      <td>1.190153</td>\n",
       "    </tr>\n",
       "    <tr>\n",
       "      <th>10</th>\n",
       "      <td>trans_6_month</td>\n",
       "      <td>0.953133</td>\n",
       "    </tr>\n",
       "  </tbody>\n",
       "</table>\n",
       "</div>"
      ],
      "text/plain": [
       "        Feature Id  Importances\n",
       "0   amont_day_from    40.099140\n",
       "1    trans_3_month    25.303641\n",
       "2           Income    13.246696\n",
       "3              Age     6.185055\n",
       "4           Gender     3.688345\n",
       "5         Lifetime     3.362178\n",
       "6         District     2.996136\n",
       "7           Region     1.657659\n",
       "8          Segment     1.317864\n",
       "9        Age_group     1.190153\n",
       "10   trans_6_month     0.953133"
      ]
     },
     "execution_count": 162,
     "metadata": {},
     "output_type": "execute_result"
    }
   ],
   "source": [
    "importances"
   ]
  },
  {
   "cell_type": "code",
   "execution_count": 166,
   "id": "b4d383b4-f382-49b1-82c1-af4410dbb5b1",
   "metadata": {},
   "outputs": [
    {
     "data": {
      "image/png": "[encoded data removed]",
      "text/plain": [
       "<Figure size 800x590 with 2 Axes>"
      ]
     },
     "metadata": {},
     "output_type": "display_data"
    }
   ],
   "source": [
    "import shap\n",
    "\n",
    "explainer = shap.Explainer(model)\n",
    "shap_values = explainer(test.drop(columns=[target1, target2]))\n",
    "\n",
    "shap.summary_plot(shap_values, test.drop(columns=[target1, target2]))"
   ]
  },
  {
   "cell_type": "code",
   "execution_count": null,
   "id": "8ee471df-e94c-4d4b-a725-cb3d597e3773",
   "metadata": {},
   "outputs": [],
   "source": []
  },
  {
   "cell_type": "code",
   "execution_count": 153,
   "id": "bb9de817-3dbe-4ebc-ba59-e8c1193462ef",
   "metadata": {},
   "outputs": [],
   "source": [
    "def objective(trial):\n",
    "    param = {\n",
    "        \"n_estimators\": trial.suggest_int('n_estimators', 100, 1000),\n",
    "        \"learning_rate\": trial.suggest_float('learning_rate', 0.01, 0.3),\n",
    "        \"objective\": trial.suggest_categorical('objective', [\"Logloss\", \"CrossEntropy\"]),\n",
    "        \"depth\": trial.suggest_int('depth', 3, 10),\n",
    "        \"l2_leaf_reg\": trial.suggest_loguniform('l2_leaf_reg', 1e-2, 10),\n",
    "        \"colsample_bylevel\": trial.suggest_float('colsample_bylevel', 0.01, 1.0),\n",
    "        \"min_child_samples\": trial.suggest_float('min_child_samples', 100, 1000, step=100),\n",
    "        \"grow_policy\": trial.suggest_categorical('grow_policy', [\"SymmetricTree\", \"Depthwise\", \"Lossguide\"]),\n",
    "        \"border_count\": trial.suggest_categorical('border_count', [128, 256, 512]),\n",
    "        \"auto_class_weights\": trial.suggest_categorical('auto_class_weight', [None, 'Balanced', 'SqrtBalanced'])\n",
    "    }\n",
    "\n",
    "    if param['objective'] == 'CrossEntropy':\n",
    "        param['auto_class_weights'] = None\n",
    "\n",
    "    model = CatBoostClassifier(**param, verbose = False, random_seed=42)\n",
    "\n",
    "    model.fit(train.drop(columns=[target1, target2]), train[target1], cat_features=cat_features, eval_set = (val.drop(columns=[target1, target2]), val[target1]))\n",
    "\n",
    "    test_roc_auc = roc_auc_score(test[target1], model.predict_proba(test.drop(columns=[target1, target2]))[:, 1])\n",
    "\n",
    "    train_roc_auc = roc_auc_score(train[target1], model.predict_proba(train.drop(columns=[target1, target2]))[:, 1])\n",
    "\n",
    "    if train_roc_auc - test_roc_auc > 0.03:\n",
    "        return 0\n",
    "    else:\n",
    "        return test_roc_auc"
   ]
  },
  {
   "cell_type": "code",
   "execution_count": 155,
   "id": "eeaee298-11f0-4644-b456-1f204079476f",
   "metadata": {},
   "outputs": [
    {
     "name": "stderr",
     "output_type": "stream",
     "text": [
      "[I 2025-05-06 00:36:19,711] A new study created in memory with name: no-name-d0929a2c-8768-46ce-9b98-32c555566f95\n",
      "/var/folders/_k/vxqnb8117qb_1tpg9p98mtyc0000gn/T/ipykernel_22149/2337432607.py:7: FutureWarning: suggest_loguniform has been deprecated in v3.0.0. This feature will be removed in v6.0.0. See https://github.com/optuna/optuna/releases/tag/v3.0.0. Use suggest_float(..., log=True) instead.\n",
      "  \"l2_leaf_reg\": trial.suggest_loguniform('l2_leaf_reg', 1e-2, 10),\n",
      "[I 2025-05-06 00:37:23,616] Trial 0 finished with value: 0.9400118471825535 and parameters: {'n_estimators': 881, 'learning_rate': 0.09731734737197249, 'objective': 'CrossEntropy', 'depth': 3, 'l2_leaf_reg': 0.6336381215043078, 'colsample_bylevel': 0.7527415249863493, 'min_child_samples': 400.0, 'grow_policy': 'Depthwise', 'border_count': 256, 'auto_class_weight': 'SqrtBalanced'}. Best is trial 0 with value: 0.9400118471825535.\n",
      "/var/folders/_k/vxqnb8117qb_1tpg9p98mtyc0000gn/T/ipykernel_22149/2337432607.py:7: FutureWarning: suggest_loguniform has been deprecated in v3.0.0. This feature will be removed in v6.0.0. See https://github.com/optuna/optuna/releases/tag/v3.0.0. Use suggest_float(..., log=True) instead.\n",
      "  \"l2_leaf_reg\": trial.suggest_loguniform('l2_leaf_reg', 1e-2, 10),\n",
      "[I 2025-05-06 00:38:48,219] Trial 1 finished with value: 0.9729241493462017 and parameters: {'n_estimators': 753, 'learning_rate': 0.21349808999402287, 'objective': 'Logloss', 'depth': 6, 'l2_leaf_reg': 0.02989064965709356, 'colsample_bylevel': 0.797186816171399, 'min_child_samples': 700.0, 'grow_policy': 'Depthwise', 'border_count': 512, 'auto_class_weight': None}. Best is trial 1 with value: 0.9729241493462017.\n",
      "/var/folders/_k/vxqnb8117qb_1tpg9p98mtyc0000gn/T/ipykernel_22149/2337432607.py:7: FutureWarning: suggest_loguniform has been deprecated in v3.0.0. This feature will be removed in v6.0.0. See https://github.com/optuna/optuna/releases/tag/v3.0.0. Use suggest_float(..., log=True) instead.\n",
      "  \"l2_leaf_reg\": trial.suggest_loguniform('l2_leaf_reg', 1e-2, 10),\n",
      "[I 2025-05-06 00:39:58,516] Trial 2 finished with value: 0.9529478050974669 and parameters: {'n_estimators': 623, 'learning_rate': 0.06618115908426919, 'objective': 'Logloss', 'depth': 7, 'l2_leaf_reg': 0.37150403140280586, 'colsample_bylevel': 0.6843110496080158, 'min_child_samples': 900.0, 'grow_policy': 'Lossguide', 'border_count': 256, 'auto_class_weight': None}. Best is trial 1 with value: 0.9729241493462017.\n",
      "/var/folders/_k/vxqnb8117qb_1tpg9p98mtyc0000gn/T/ipykernel_22149/2337432607.py:7: FutureWarning: suggest_loguniform has been deprecated in v3.0.0. This feature will be removed in v6.0.0. See https://github.com/optuna/optuna/releases/tag/v3.0.0. Use suggest_float(..., log=True) instead.\n",
      "  \"l2_leaf_reg\": trial.suggest_loguniform('l2_leaf_reg', 1e-2, 10),\n",
      "[I 2025-05-06 00:40:37,735] Trial 3 finished with value: 0.9459150571203405 and parameters: {'n_estimators': 457, 'learning_rate': 0.20225329364569267, 'objective': 'Logloss', 'depth': 8, 'l2_leaf_reg': 4.102808427900884, 'colsample_bylevel': 0.15501582952404194, 'min_child_samples': 1000.0, 'grow_policy': 'Lossguide', 'border_count': 512, 'auto_class_weight': 'Balanced'}. Best is trial 1 with value: 0.9729241493462017.\n",
      "/var/folders/_k/vxqnb8117qb_1tpg9p98mtyc0000gn/T/ipykernel_22149/2337432607.py:7: FutureWarning: suggest_loguniform has been deprecated in v3.0.0. This feature will be removed in v6.0.0. See https://github.com/optuna/optuna/releases/tag/v3.0.0. Use suggest_float(..., log=True) instead.\n",
      "  \"l2_leaf_reg\": trial.suggest_loguniform('l2_leaf_reg', 1e-2, 10),\n",
      "[W 2025-05-06 00:41:07,805] Trial 4 failed with parameters: {'n_estimators': 736, 'learning_rate': 0.06231276931594397, 'objective': 'Logloss', 'depth': 8, 'l2_leaf_reg': 4.7330979598846366, 'colsample_bylevel': 0.28506490449875427, 'min_child_samples': 300.0, 'grow_policy': 'Depthwise', 'border_count': 512, 'auto_class_weight': 'Balanced'} because of the following error: KeyboardInterrupt('').\n",
      "Traceback (most recent call last):\n",
      "  File \"/Library/Frameworks/Python.framework/Versions/3.9/lib/python3.9/site-packages/optuna/study/_optimize.py\", line 197, in _run_trial\n",
      "    value_or_values = func(trial)\n",
      "  File \"/var/folders/_k/vxqnb8117qb_1tpg9p98mtyc0000gn/T/ipykernel_22149/2337432607.py\", line 20, in objective\n",
      "    model.fit(train.drop(columns=[target1, target2]), train[target1], cat_features=cat_features, eval_set = (val.drop(columns=[target1, target2]), val[target1]))\n",
      "  File \"/Library/Frameworks/Python.framework/Versions/3.9/lib/python3.9/site-packages/catboost/core.py\", line 5245, in fit\n",
      "    self._fit(X, y, cat_features, text_features, embedding_features, None, graph, sample_weight, None, None, None, None, baseline, use_best_model,\n",
      "  File \"/Library/Frameworks/Python.framework/Versions/3.9/lib/python3.9/site-packages/catboost/core.py\", line 2410, in _fit\n",
      "    self._train(\n",
      "  File \"/Library/Frameworks/Python.framework/Versions/3.9/lib/python3.9/site-packages/catboost/core.py\", line 1790, in _train\n",
      "    self._object._train(train_pool, test_pool, params, allow_clear_pool, init_model._object if init_model else None)\n",
      "  File \"_catboost.pyx\", line 5017, in _catboost._CatBoost._train\n",
      "  File \"_catboost.pyx\", line 5066, in _catboost._CatBoost._train\n",
      "KeyboardInterrupt\n",
      "[W 2025-05-06 00:41:07,807] Trial 4 failed with value None.\n"
     ]
    },
    {
     "ename": "KeyboardInterrupt",
     "evalue": "",
     "output_type": "error",
     "traceback": [
      "\u001b[0;31m---------------------------------------------------------------------------\u001b[0m",
      "\u001b[0;31mKeyboardInterrupt\u001b[0m                         Traceback (most recent call last)",
      "Cell \u001b[0;32mIn [155], line 2\u001b[0m\n\u001b[1;32m      1\u001b[0m study \u001b[38;5;241m=\u001b[39m optuna\u001b[38;5;241m.\u001b[39mcreate_study(direction\u001b[38;5;241m=\u001b[39m\u001b[38;5;124m'\u001b[39m\u001b[38;5;124mmaximize\u001b[39m\u001b[38;5;124m'\u001b[39m)\n\u001b[0;32m----> 2\u001b[0m \u001b[43mstudy\u001b[49m\u001b[38;5;241;43m.\u001b[39;49m\u001b[43moptimize\u001b[49m\u001b[43m(\u001b[49m\u001b[43mobjective\u001b[49m\u001b[43m,\u001b[49m\u001b[43m \u001b[49m\u001b[43mn_trials\u001b[49m\u001b[38;5;241;43m=\u001b[39;49m\u001b[38;5;241;43m100\u001b[39;49m\u001b[43m)\u001b[49m\n",
      "File \u001b[0;32m/Library/Frameworks/Python.framework/Versions/3.9/lib/python3.9/site-packages/optuna/study/study.py:475\u001b[0m, in \u001b[0;36mStudy.optimize\u001b[0;34m(self, func, n_trials, timeout, n_jobs, catch, callbacks, gc_after_trial, show_progress_bar)\u001b[0m\n\u001b[1;32m    373\u001b[0m \u001b[38;5;28;01mdef\u001b[39;00m \u001b[38;5;21moptimize\u001b[39m(\n\u001b[1;32m    374\u001b[0m     \u001b[38;5;28mself\u001b[39m,\n\u001b[1;32m    375\u001b[0m     func: ObjectiveFuncType,\n\u001b[0;32m   (...)\u001b[0m\n\u001b[1;32m    382\u001b[0m     show_progress_bar: \u001b[38;5;28mbool\u001b[39m \u001b[38;5;241m=\u001b[39m \u001b[38;5;28;01mFalse\u001b[39;00m,\n\u001b[1;32m    383\u001b[0m ) \u001b[38;5;241m-\u001b[39m\u001b[38;5;241m>\u001b[39m \u001b[38;5;28;01mNone\u001b[39;00m:\n\u001b[1;32m    384\u001b[0m     \u001b[38;5;124;03m\"\"\"Optimize an objective function.\u001b[39;00m\n\u001b[1;32m    385\u001b[0m \n\u001b[1;32m    386\u001b[0m \u001b[38;5;124;03m    Optimization is done by choosing a suitable set of hyperparameter values from a given\u001b[39;00m\n\u001b[0;32m   (...)\u001b[0m\n\u001b[1;32m    473\u001b[0m \u001b[38;5;124;03m            If nested invocation of this method occurs.\u001b[39;00m\n\u001b[1;32m    474\u001b[0m \u001b[38;5;124;03m    \"\"\"\u001b[39;00m\n\u001b[0;32m--> 475\u001b[0m     \u001b[43m_optimize\u001b[49m\u001b[43m(\u001b[49m\n\u001b[1;32m    476\u001b[0m \u001b[43m        \u001b[49m\u001b[43mstudy\u001b[49m\u001b[38;5;241;43m=\u001b[39;49m\u001b[38;5;28;43mself\u001b[39;49m\u001b[43m,\u001b[49m\n\u001b[1;32m    477\u001b[0m \u001b[43m        \u001b[49m\u001b[43mfunc\u001b[49m\u001b[38;5;241;43m=\u001b[39;49m\u001b[43mfunc\u001b[49m\u001b[43m,\u001b[49m\n\u001b[1;32m    478\u001b[0m \u001b[43m        \u001b[49m\u001b[43mn_trials\u001b[49m\u001b[38;5;241;43m=\u001b[39;49m\u001b[43mn_trials\u001b[49m\u001b[43m,\u001b[49m\n\u001b[1;32m    479\u001b[0m \u001b[43m        \u001b[49m\u001b[43mtimeout\u001b[49m\u001b[38;5;241;43m=\u001b[39;49m\u001b[43mtimeout\u001b[49m\u001b[43m,\u001b[49m\n\u001b[1;32m    480\u001b[0m \u001b[43m        \u001b[49m\u001b[43mn_jobs\u001b[49m\u001b[38;5;241;43m=\u001b[39;49m\u001b[43mn_jobs\u001b[49m\u001b[43m,\u001b[49m\n\u001b[1;32m    481\u001b[0m \u001b[43m        \u001b[49m\u001b[43mcatch\u001b[49m\u001b[38;5;241;43m=\u001b[39;49m\u001b[38;5;28;43mtuple\u001b[39;49m\u001b[43m(\u001b[49m\u001b[43mcatch\u001b[49m\u001b[43m)\u001b[49m\u001b[43m \u001b[49m\u001b[38;5;28;43;01mif\u001b[39;49;00m\u001b[43m \u001b[49m\u001b[38;5;28;43misinstance\u001b[39;49m\u001b[43m(\u001b[49m\u001b[43mcatch\u001b[49m\u001b[43m,\u001b[49m\u001b[43m \u001b[49m\u001b[43mIterable\u001b[49m\u001b[43m)\u001b[49m\u001b[43m \u001b[49m\u001b[38;5;28;43;01melse\u001b[39;49;00m\u001b[43m \u001b[49m\u001b[43m(\u001b[49m\u001b[43mcatch\u001b[49m\u001b[43m,\u001b[49m\u001b[43m)\u001b[49m\u001b[43m,\u001b[49m\n\u001b[1;32m    482\u001b[0m \u001b[43m        \u001b[49m\u001b[43mcallbacks\u001b[49m\u001b[38;5;241;43m=\u001b[39;49m\u001b[43mcallbacks\u001b[49m\u001b[43m,\u001b[49m\n\u001b[1;32m    483\u001b[0m \u001b[43m        \u001b[49m\u001b[43mgc_after_trial\u001b[49m\u001b[38;5;241;43m=\u001b[39;49m\u001b[43mgc_after_trial\u001b[49m\u001b[43m,\u001b[49m\n\u001b[1;32m    484\u001b[0m \u001b[43m        \u001b[49m\u001b[43mshow_progress_bar\u001b[49m\u001b[38;5;241;43m=\u001b[39;49m\u001b[43mshow_progress_bar\u001b[49m\u001b[43m,\u001b[49m\n\u001b[1;32m    485\u001b[0m \u001b[43m    \u001b[49m\u001b[43m)\u001b[49m\n",
      "File \u001b[0;32m/Library/Frameworks/Python.framework/Versions/3.9/lib/python3.9/site-packages/optuna/study/_optimize.py:63\u001b[0m, in \u001b[0;36m_optimize\u001b[0;34m(study, func, n_trials, timeout, n_jobs, catch, callbacks, gc_after_trial, show_progress_bar)\u001b[0m\n\u001b[1;32m     61\u001b[0m \u001b[38;5;28;01mtry\u001b[39;00m:\n\u001b[1;32m     62\u001b[0m     \u001b[38;5;28;01mif\u001b[39;00m n_jobs \u001b[38;5;241m==\u001b[39m \u001b[38;5;241m1\u001b[39m:\n\u001b[0;32m---> 63\u001b[0m         \u001b[43m_optimize_sequential\u001b[49m\u001b[43m(\u001b[49m\n\u001b[1;32m     64\u001b[0m \u001b[43m            \u001b[49m\u001b[43mstudy\u001b[49m\u001b[43m,\u001b[49m\n\u001b[1;32m     65\u001b[0m \u001b[43m            \u001b[49m\u001b[43mfunc\u001b[49m\u001b[43m,\u001b[49m\n\u001b[1;32m     66\u001b[0m \u001b[43m            \u001b[49m\u001b[43mn_trials\u001b[49m\u001b[43m,\u001b[49m\n\u001b[1;32m     67\u001b[0m \u001b[43m            \u001b[49m\u001b[43mtimeout\u001b[49m\u001b[43m,\u001b[49m\n\u001b[1;32m     68\u001b[0m \u001b[43m            \u001b[49m\u001b[43mcatch\u001b[49m\u001b[43m,\u001b[49m\n\u001b[1;32m     69\u001b[0m \u001b[43m            \u001b[49m\u001b[43mcallbacks\u001b[49m\u001b[43m,\u001b[49m\n\u001b[1;32m     70\u001b[0m \u001b[43m            \u001b[49m\u001b[43mgc_after_trial\u001b[49m\u001b[43m,\u001b[49m\n\u001b[1;32m     71\u001b[0m \u001b[43m            \u001b[49m\u001b[43mreseed_sampler_rng\u001b[49m\u001b[38;5;241;43m=\u001b[39;49m\u001b[38;5;28;43;01mFalse\u001b[39;49;00m\u001b[43m,\u001b[49m\n\u001b[1;32m     72\u001b[0m \u001b[43m            \u001b[49m\u001b[43mtime_start\u001b[49m\u001b[38;5;241;43m=\u001b[39;49m\u001b[38;5;28;43;01mNone\u001b[39;49;00m\u001b[43m,\u001b[49m\n\u001b[1;32m     73\u001b[0m \u001b[43m            \u001b[49m\u001b[43mprogress_bar\u001b[49m\u001b[38;5;241;43m=\u001b[39;49m\u001b[43mprogress_bar\u001b[49m\u001b[43m,\u001b[49m\n\u001b[1;32m     74\u001b[0m \u001b[43m        \u001b[49m\u001b[43m)\u001b[49m\n\u001b[1;32m     75\u001b[0m     \u001b[38;5;28;01melse\u001b[39;00m:\n\u001b[1;32m     76\u001b[0m         \u001b[38;5;28;01mif\u001b[39;00m n_jobs \u001b[38;5;241m==\u001b[39m \u001b[38;5;241m-\u001b[39m\u001b[38;5;241m1\u001b[39m:\n",
      "File \u001b[0;32m/Library/Frameworks/Python.framework/Versions/3.9/lib/python3.9/site-packages/optuna/study/_optimize.py:160\u001b[0m, in \u001b[0;36m_optimize_sequential\u001b[0;34m(study, func, n_trials, timeout, catch, callbacks, gc_after_trial, reseed_sampler_rng, time_start, progress_bar)\u001b[0m\n\u001b[1;32m    157\u001b[0m         \u001b[38;5;28;01mbreak\u001b[39;00m\n\u001b[1;32m    159\u001b[0m \u001b[38;5;28;01mtry\u001b[39;00m:\n\u001b[0;32m--> 160\u001b[0m     frozen_trial \u001b[38;5;241m=\u001b[39m \u001b[43m_run_trial\u001b[49m\u001b[43m(\u001b[49m\u001b[43mstudy\u001b[49m\u001b[43m,\u001b[49m\u001b[43m \u001b[49m\u001b[43mfunc\u001b[49m\u001b[43m,\u001b[49m\u001b[43m \u001b[49m\u001b[43mcatch\u001b[49m\u001b[43m)\u001b[49m\n\u001b[1;32m    161\u001b[0m \u001b[38;5;28;01mfinally\u001b[39;00m:\n\u001b[1;32m    162\u001b[0m     \u001b[38;5;66;03m# The following line mitigates memory problems that can be occurred in some\u001b[39;00m\n\u001b[1;32m    163\u001b[0m     \u001b[38;5;66;03m# environments (e.g., services that use computing containers such as GitHub Actions).\u001b[39;00m\n\u001b[1;32m    164\u001b[0m     \u001b[38;5;66;03m# Please refer to the following PR for further details:\u001b[39;00m\n\u001b[1;32m    165\u001b[0m     \u001b[38;5;66;03m# https://github.com/optuna/optuna/pull/325.\u001b[39;00m\n\u001b[1;32m    166\u001b[0m     \u001b[38;5;28;01mif\u001b[39;00m gc_after_trial:\n",
      "File \u001b[0;32m/Library/Frameworks/Python.framework/Versions/3.9/lib/python3.9/site-packages/optuna/study/_optimize.py:248\u001b[0m, in \u001b[0;36m_run_trial\u001b[0;34m(study, func, catch)\u001b[0m\n\u001b[1;32m    241\u001b[0m         \u001b[38;5;28;01massert\u001b[39;00m \u001b[38;5;28;01mFalse\u001b[39;00m, \u001b[38;5;124m\"\u001b[39m\u001b[38;5;124mShould not reach.\u001b[39m\u001b[38;5;124m\"\u001b[39m\n\u001b[1;32m    243\u001b[0m \u001b[38;5;28;01mif\u001b[39;00m (\n\u001b[1;32m    244\u001b[0m     frozen_trial\u001b[38;5;241m.\u001b[39mstate \u001b[38;5;241m==\u001b[39m TrialState\u001b[38;5;241m.\u001b[39mFAIL\n\u001b[1;32m    245\u001b[0m     \u001b[38;5;129;01mand\u001b[39;00m func_err \u001b[38;5;129;01mis\u001b[39;00m \u001b[38;5;129;01mnot\u001b[39;00m \u001b[38;5;28;01mNone\u001b[39;00m\n\u001b[1;32m    246\u001b[0m     \u001b[38;5;129;01mand\u001b[39;00m \u001b[38;5;129;01mnot\u001b[39;00m \u001b[38;5;28misinstance\u001b[39m(func_err, catch)\n\u001b[1;32m    247\u001b[0m ):\n\u001b[0;32m--> 248\u001b[0m     \u001b[38;5;28;01mraise\u001b[39;00m func_err\n\u001b[1;32m    249\u001b[0m \u001b[38;5;28;01mreturn\u001b[39;00m frozen_trial\n",
      "File \u001b[0;32m/Library/Frameworks/Python.framework/Versions/3.9/lib/python3.9/site-packages/optuna/study/_optimize.py:197\u001b[0m, in \u001b[0;36m_run_trial\u001b[0;34m(study, func, catch)\u001b[0m\n\u001b[1;32m    195\u001b[0m \u001b[38;5;28;01mwith\u001b[39;00m get_heartbeat_thread(trial\u001b[38;5;241m.\u001b[39m_trial_id, study\u001b[38;5;241m.\u001b[39m_storage):\n\u001b[1;32m    196\u001b[0m     \u001b[38;5;28;01mtry\u001b[39;00m:\n\u001b[0;32m--> 197\u001b[0m         value_or_values \u001b[38;5;241m=\u001b[39m \u001b[43mfunc\u001b[49m\u001b[43m(\u001b[49m\u001b[43mtrial\u001b[49m\u001b[43m)\u001b[49m\n\u001b[1;32m    198\u001b[0m     \u001b[38;5;28;01mexcept\u001b[39;00m exceptions\u001b[38;5;241m.\u001b[39mTrialPruned \u001b[38;5;28;01mas\u001b[39;00m e:\n\u001b[1;32m    199\u001b[0m         \u001b[38;5;66;03m# TODO(mamu): Handle multi-objective cases.\u001b[39;00m\n\u001b[1;32m    200\u001b[0m         state \u001b[38;5;241m=\u001b[39m TrialState\u001b[38;5;241m.\u001b[39mPRUNED\n",
      "Cell \u001b[0;32mIn [153], line 20\u001b[0m, in \u001b[0;36mobjective\u001b[0;34m(trial)\u001b[0m\n\u001b[1;32m     16\u001b[0m     param[\u001b[38;5;124m'\u001b[39m\u001b[38;5;124mauto_class_weights\u001b[39m\u001b[38;5;124m'\u001b[39m] \u001b[38;5;241m=\u001b[39m \u001b[38;5;28;01mNone\u001b[39;00m\n\u001b[1;32m     18\u001b[0m model \u001b[38;5;241m=\u001b[39m CatBoostClassifier(\u001b[38;5;241m*\u001b[39m\u001b[38;5;241m*\u001b[39mparam, verbose \u001b[38;5;241m=\u001b[39m \u001b[38;5;28;01mFalse\u001b[39;00m, random_seed\u001b[38;5;241m=\u001b[39m\u001b[38;5;241m42\u001b[39m)\n\u001b[0;32m---> 20\u001b[0m \u001b[43mmodel\u001b[49m\u001b[38;5;241;43m.\u001b[39;49m\u001b[43mfit\u001b[49m\u001b[43m(\u001b[49m\u001b[43mtrain\u001b[49m\u001b[38;5;241;43m.\u001b[39;49m\u001b[43mdrop\u001b[49m\u001b[43m(\u001b[49m\u001b[43mcolumns\u001b[49m\u001b[38;5;241;43m=\u001b[39;49m\u001b[43m[\u001b[49m\u001b[43mtarget1\u001b[49m\u001b[43m,\u001b[49m\u001b[43m \u001b[49m\u001b[43mtarget2\u001b[49m\u001b[43m]\u001b[49m\u001b[43m)\u001b[49m\u001b[43m,\u001b[49m\u001b[43m \u001b[49m\u001b[43mtrain\u001b[49m\u001b[43m[\u001b[49m\u001b[43mtarget1\u001b[49m\u001b[43m]\u001b[49m\u001b[43m,\u001b[49m\u001b[43m \u001b[49m\u001b[43mcat_features\u001b[49m\u001b[38;5;241;43m=\u001b[39;49m\u001b[43mcat_features\u001b[49m\u001b[43m,\u001b[49m\u001b[43m \u001b[49m\u001b[43meval_set\u001b[49m\u001b[43m \u001b[49m\u001b[38;5;241;43m=\u001b[39;49m\u001b[43m \u001b[49m\u001b[43m(\u001b[49m\u001b[43mval\u001b[49m\u001b[38;5;241;43m.\u001b[39;49m\u001b[43mdrop\u001b[49m\u001b[43m(\u001b[49m\u001b[43mcolumns\u001b[49m\u001b[38;5;241;43m=\u001b[39;49m\u001b[43m[\u001b[49m\u001b[43mtarget1\u001b[49m\u001b[43m,\u001b[49m\u001b[43m \u001b[49m\u001b[43mtarget2\u001b[49m\u001b[43m]\u001b[49m\u001b[43m)\u001b[49m\u001b[43m,\u001b[49m\u001b[43m \u001b[49m\u001b[43mval\u001b[49m\u001b[43m[\u001b[49m\u001b[43mtarget1\u001b[49m\u001b[43m]\u001b[49m\u001b[43m)\u001b[49m\u001b[43m)\u001b[49m\n\u001b[1;32m     22\u001b[0m test_roc_auc \u001b[38;5;241m=\u001b[39m roc_auc_score(test[target1], model\u001b[38;5;241m.\u001b[39mpredict_proba(test\u001b[38;5;241m.\u001b[39mdrop(columns\u001b[38;5;241m=\u001b[39m[target1, target2]))[:, \u001b[38;5;241m1\u001b[39m])\n\u001b[1;32m     24\u001b[0m train_roc_auc \u001b[38;5;241m=\u001b[39m roc_auc_score(train[target1], model\u001b[38;5;241m.\u001b[39mpredict_proba(train\u001b[38;5;241m.\u001b[39mdrop(columns\u001b[38;5;241m=\u001b[39m[target1, target2]))[:, \u001b[38;5;241m1\u001b[39m])\n",
      "File \u001b[0;32m/Library/Frameworks/Python.framework/Versions/3.9/lib/python3.9/site-packages/catboost/core.py:5245\u001b[0m, in \u001b[0;36mCatBoostClassifier.fit\u001b[0;34m(self, X, y, cat_features, text_features, embedding_features, graph, sample_weight, baseline, use_best_model, eval_set, verbose, logging_level, plot, plot_file, column_description, verbose_eval, metric_period, silent, early_stopping_rounds, save_snapshot, snapshot_file, snapshot_interval, init_model, callbacks, log_cout, log_cerr)\u001b[0m\n\u001b[1;32m   5242\u001b[0m \u001b[38;5;28;01mif\u001b[39;00m \u001b[38;5;124m'\u001b[39m\u001b[38;5;124mloss_function\u001b[39m\u001b[38;5;124m'\u001b[39m \u001b[38;5;129;01min\u001b[39;00m params:\n\u001b[1;32m   5243\u001b[0m     CatBoostClassifier\u001b[38;5;241m.\u001b[39m_check_is_compatible_loss(params[\u001b[38;5;124m'\u001b[39m\u001b[38;5;124mloss_function\u001b[39m\u001b[38;5;124m'\u001b[39m])\n\u001b[0;32m-> 5245\u001b[0m \u001b[38;5;28;43mself\u001b[39;49m\u001b[38;5;241;43m.\u001b[39;49m\u001b[43m_fit\u001b[49m\u001b[43m(\u001b[49m\u001b[43mX\u001b[49m\u001b[43m,\u001b[49m\u001b[43m \u001b[49m\u001b[43my\u001b[49m\u001b[43m,\u001b[49m\u001b[43m \u001b[49m\u001b[43mcat_features\u001b[49m\u001b[43m,\u001b[49m\u001b[43m \u001b[49m\u001b[43mtext_features\u001b[49m\u001b[43m,\u001b[49m\u001b[43m \u001b[49m\u001b[43membedding_features\u001b[49m\u001b[43m,\u001b[49m\u001b[43m \u001b[49m\u001b[38;5;28;43;01mNone\u001b[39;49;00m\u001b[43m,\u001b[49m\u001b[43m \u001b[49m\u001b[43mgraph\u001b[49m\u001b[43m,\u001b[49m\u001b[43m \u001b[49m\u001b[43msample_weight\u001b[49m\u001b[43m,\u001b[49m\u001b[43m \u001b[49m\u001b[38;5;28;43;01mNone\u001b[39;49;00m\u001b[43m,\u001b[49m\u001b[43m \u001b[49m\u001b[38;5;28;43;01mNone\u001b[39;49;00m\u001b[43m,\u001b[49m\u001b[43m \u001b[49m\u001b[38;5;28;43;01mNone\u001b[39;49;00m\u001b[43m,\u001b[49m\u001b[43m \u001b[49m\u001b[38;5;28;43;01mNone\u001b[39;49;00m\u001b[43m,\u001b[49m\u001b[43m \u001b[49m\u001b[43mbaseline\u001b[49m\u001b[43m,\u001b[49m\u001b[43m \u001b[49m\u001b[43muse_best_model\u001b[49m\u001b[43m,\u001b[49m\n\u001b[1;32m   5246\u001b[0m \u001b[43m          \u001b[49m\u001b[43meval_set\u001b[49m\u001b[43m,\u001b[49m\u001b[43m \u001b[49m\u001b[43mverbose\u001b[49m\u001b[43m,\u001b[49m\u001b[43m \u001b[49m\u001b[43mlogging_level\u001b[49m\u001b[43m,\u001b[49m\u001b[43m \u001b[49m\u001b[43mplot\u001b[49m\u001b[43m,\u001b[49m\u001b[43m \u001b[49m\u001b[43mplot_file\u001b[49m\u001b[43m,\u001b[49m\u001b[43m \u001b[49m\u001b[43mcolumn_description\u001b[49m\u001b[43m,\u001b[49m\u001b[43m \u001b[49m\u001b[43mverbose_eval\u001b[49m\u001b[43m,\u001b[49m\u001b[43m \u001b[49m\u001b[43mmetric_period\u001b[49m\u001b[43m,\u001b[49m\n\u001b[1;32m   5247\u001b[0m \u001b[43m          \u001b[49m\u001b[43msilent\u001b[49m\u001b[43m,\u001b[49m\u001b[43m \u001b[49m\u001b[43mearly_stopping_rounds\u001b[49m\u001b[43m,\u001b[49m\u001b[43m \u001b[49m\u001b[43msave_snapshot\u001b[49m\u001b[43m,\u001b[49m\u001b[43m \u001b[49m\u001b[43msnapshot_file\u001b[49m\u001b[43m,\u001b[49m\u001b[43m \u001b[49m\u001b[43msnapshot_interval\u001b[49m\u001b[43m,\u001b[49m\u001b[43m \u001b[49m\u001b[43minit_model\u001b[49m\u001b[43m,\u001b[49m\u001b[43m \u001b[49m\u001b[43mcallbacks\u001b[49m\u001b[43m,\u001b[49m\u001b[43m \u001b[49m\u001b[43mlog_cout\u001b[49m\u001b[43m,\u001b[49m\u001b[43m \u001b[49m\u001b[43mlog_cerr\u001b[49m\u001b[43m)\u001b[49m\n\u001b[1;32m   5248\u001b[0m \u001b[38;5;28;01mreturn\u001b[39;00m \u001b[38;5;28mself\u001b[39m\n",
      "File \u001b[0;32m/Library/Frameworks/Python.framework/Versions/3.9/lib/python3.9/site-packages/catboost/core.py:2410\u001b[0m, in \u001b[0;36mCatBoost._fit\u001b[0;34m(self, X, y, cat_features, text_features, embedding_features, pairs, graph, sample_weight, group_id, group_weight, subgroup_id, pairs_weight, baseline, use_best_model, eval_set, verbose, logging_level, plot, plot_file, column_description, verbose_eval, metric_period, silent, early_stopping_rounds, save_snapshot, snapshot_file, snapshot_interval, init_model, callbacks, log_cout, log_cerr)\u001b[0m\n\u001b[1;32m   2407\u001b[0m allow_clear_pool \u001b[38;5;241m=\u001b[39m train_params[\u001b[38;5;124m\"\u001b[39m\u001b[38;5;124mallow_clear_pool\u001b[39m\u001b[38;5;124m\"\u001b[39m]\n\u001b[1;32m   2409\u001b[0m \u001b[38;5;28;01mwith\u001b[39;00m plot_wrapper(plot, plot_file, \u001b[38;5;124m'\u001b[39m\u001b[38;5;124mTraining plots\u001b[39m\u001b[38;5;124m'\u001b[39m, [_get_train_dir(\u001b[38;5;28mself\u001b[39m\u001b[38;5;241m.\u001b[39mget_params())]):\n\u001b[0;32m-> 2410\u001b[0m     \u001b[38;5;28;43mself\u001b[39;49m\u001b[38;5;241;43m.\u001b[39;49m\u001b[43m_train\u001b[49m\u001b[43m(\u001b[49m\n\u001b[1;32m   2411\u001b[0m \u001b[43m        \u001b[49m\u001b[43mtrain_pool\u001b[49m\u001b[43m,\u001b[49m\n\u001b[1;32m   2412\u001b[0m \u001b[43m        \u001b[49m\u001b[43mtrain_params\u001b[49m\u001b[43m[\u001b[49m\u001b[38;5;124;43m\"\u001b[39;49m\u001b[38;5;124;43meval_sets\u001b[39;49m\u001b[38;5;124;43m\"\u001b[39;49m\u001b[43m]\u001b[49m\u001b[43m,\u001b[49m\n\u001b[1;32m   2413\u001b[0m \u001b[43m        \u001b[49m\u001b[43mparams\u001b[49m\u001b[43m,\u001b[49m\n\u001b[1;32m   2414\u001b[0m \u001b[43m        \u001b[49m\u001b[43mallow_clear_pool\u001b[49m\u001b[43m,\u001b[49m\n\u001b[1;32m   2415\u001b[0m \u001b[43m        \u001b[49m\u001b[43mtrain_params\u001b[49m\u001b[43m[\u001b[49m\u001b[38;5;124;43m\"\u001b[39;49m\u001b[38;5;124;43minit_model\u001b[39;49m\u001b[38;5;124;43m\"\u001b[39;49m\u001b[43m]\u001b[49m\n\u001b[1;32m   2416\u001b[0m \u001b[43m    \u001b[49m\u001b[43m)\u001b[49m\n\u001b[1;32m   2418\u001b[0m \u001b[38;5;66;03m# Have property feature_importance possibly set\u001b[39;00m\n\u001b[1;32m   2419\u001b[0m loss \u001b[38;5;241m=\u001b[39m \u001b[38;5;28mself\u001b[39m\u001b[38;5;241m.\u001b[39m_object\u001b[38;5;241m.\u001b[39m_get_loss_function_name()\n",
      "File \u001b[0;32m/Library/Frameworks/Python.framework/Versions/3.9/lib/python3.9/site-packages/catboost/core.py:1790\u001b[0m, in \u001b[0;36m_CatBoostBase._train\u001b[0;34m(self, train_pool, test_pool, params, allow_clear_pool, init_model)\u001b[0m\n\u001b[1;32m   1789\u001b[0m \u001b[38;5;28;01mdef\u001b[39;00m \u001b[38;5;21m_train\u001b[39m(\u001b[38;5;28mself\u001b[39m, train_pool, test_pool, params, allow_clear_pool, init_model):\n\u001b[0;32m-> 1790\u001b[0m     \u001b[38;5;28;43mself\u001b[39;49m\u001b[38;5;241;43m.\u001b[39;49m\u001b[43m_object\u001b[49m\u001b[38;5;241;43m.\u001b[39;49m\u001b[43m_train\u001b[49m\u001b[43m(\u001b[49m\u001b[43mtrain_pool\u001b[49m\u001b[43m,\u001b[49m\u001b[43m \u001b[49m\u001b[43mtest_pool\u001b[49m\u001b[43m,\u001b[49m\u001b[43m \u001b[49m\u001b[43mparams\u001b[49m\u001b[43m,\u001b[49m\u001b[43m \u001b[49m\u001b[43mallow_clear_pool\u001b[49m\u001b[43m,\u001b[49m\u001b[43m \u001b[49m\u001b[43minit_model\u001b[49m\u001b[38;5;241;43m.\u001b[39;49m\u001b[43m_object\u001b[49m\u001b[43m \u001b[49m\u001b[38;5;28;43;01mif\u001b[39;49;00m\u001b[43m \u001b[49m\u001b[43minit_model\u001b[49m\u001b[43m \u001b[49m\u001b[38;5;28;43;01melse\u001b[39;49;00m\u001b[43m \u001b[49m\u001b[38;5;28;43;01mNone\u001b[39;49;00m\u001b[43m)\u001b[49m\n\u001b[1;32m   1791\u001b[0m     \u001b[38;5;28mself\u001b[39m\u001b[38;5;241m.\u001b[39m_set_trained_model_attributes()\n",
      "File \u001b[0;32m_catboost.pyx:5017\u001b[0m, in \u001b[0;36m_catboost._CatBoost._train\u001b[0;34m()\u001b[0m\n",
      "File \u001b[0;32m_catboost.pyx:5066\u001b[0m, in \u001b[0;36m_catboost._CatBoost._train\u001b[0;34m()\u001b[0m\n",
      "\u001b[0;31mKeyboardInterrupt\u001b[0m: "
     ]
    }
   ],
   "source": [
    "study = optuna.create_study(direction='maximize')\n",
    "study.optimize(objective, n_trials=100)"
   ]
  },
  {
   "cell_type": "code",
   "execution_count": null,
   "id": "c65c87a1-4c8b-4002-94ac-69fc6ac13c52",
   "metadata": {},
   "outputs": [],
   "source": [
    "print(study.best_params)"
   ]
  },
  {
   "cell_type": "code",
   "execution_count": null,
   "id": "a0882aaf-6802-4709-895f-ff2b25d2e65e",
   "metadata": {},
   "outputs": [],
   "source": []
  }
 ],
 "metadata": {
  "kernelspec": {
   "display_name": "Python 3 (ipykernel)",
   "language": "python",
   "name": "python3"
  },
  "language_info": {
   "codemirror_mode": {
    "name": "ipython",
    "version": 3
   },
   "file_extension": ".py",
   "mimetype": "text/x-python",
   "name": "python",
   "nbconvert_exporter": "python",
   "pygments_lexer": "ipython3",
   "version": "3.9.12"
  }
 },
 "nbformat": 4,
 "nbformat_minor": 5
}
